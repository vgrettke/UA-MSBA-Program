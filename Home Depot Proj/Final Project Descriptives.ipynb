{
 "cells": [
  {
   "cell_type": "markdown",
   "id": "4362fff8-089f-4a84-ae4d-c8e711f47267",
   "metadata": {},
   "source": [
    "# Shows Distribution Center's and Routes for Each State"
   ]
  },
  {
   "cell_type": "code",
   "execution_count": 1,
   "id": "adee8ec7-0b6e-4f20-93c2-ef0098085f52",
   "metadata": {},
   "outputs": [],
   "source": [
    "import pandas as pd"
   ]
  },
  {
   "cell_type": "markdown",
   "id": "2c5fd674-11f0-425f-9710-4ff5879ca0a8",
   "metadata": {},
   "source": [
    "### Alabama "
   ]
  },
  {
   "cell_type": "code",
   "execution_count": 3,
   "id": "6fb33a1b-e85a-4bad-a7a6-8002c3fb85fb",
   "metadata": {},
   "outputs": [],
   "source": [
    "alabama_c1 = pd.read_json('AL_Routes_Cluster1.json')\n",
    "alabama_c2 = pd.read_json('AL_Routes_Cluster2.json')\n",
    "alabama_c3 = pd.read_json('AL_Routes_Cluster3.json')"
   ]
  },
  {
   "cell_type": "markdown",
   "id": "942fa3a7-b605-4636-a402-8ecb8bb12cd8",
   "metadata": {},
   "source": [
    "- Need coordinates of each store and depot\n",
    "- Need Arcs for current cluster"
   ]
  },
  {
   "cell_type": "code",
   "execution_count": null,
   "id": "7f8d241b-2fa5-4e2d-bb5c-9721185bed77",
   "metadata": {},
   "outputs": [],
   "source": []
  }
 ],
 "metadata": {
  "kernelspec": {
   "display_name": "Python 3 (ipykernel)",
   "language": "python",
   "name": "python3"
  },
  "language_info": {
   "codemirror_mode": {
    "name": "ipython",
    "version": 3
   },
   "file_extension": ".py",
   "mimetype": "text/x-python",
   "name": "python",
   "nbconvert_exporter": "python",
   "pygments_lexer": "ipython3",
   "version": "3.9.7"
  }
 },
 "nbformat": 4,
 "nbformat_minor": 5
}
