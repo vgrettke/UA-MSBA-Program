{
 "cells": [
  {
   "cell_type": "code",
   "execution_count": null,
   "id": "5921d071-08dc-42ba-9cee-ba361363774a",
   "metadata": {},
   "outputs": [],
   "source": [
    "if placeFilled == False:\n",
    "    # if center available, take it\n",
    "    if board.status[1][1] == 0:\n",
    "        board.status[1][1] = self.player_number\n",
    "    # if not, lets just take the top left corner\n",
    "    else:\n",
    "        board.status[0][0] = self.player_number\n",
    "    placeFilled = True\n",
    "    count+=1"
   ]
  },
  {
   "cell_type": "code",
   "execution_count": null,
   "id": "4a5d71ef-91c6-4396-a049-2a84c1410c75",
   "metadata": {},
   "outputs": [],
   "source": []
  }
 ],
 "metadata": {
  "kernelspec": {
   "display_name": "Python 3 (ipykernel)",
   "language": "python",
   "name": "python3"
  },
  "language_info": {
   "codemirror_mode": {
    "name": "ipython",
    "version": 3
   },
   "file_extension": ".py",
   "mimetype": "text/x-python",
   "name": "python",
   "nbconvert_exporter": "python",
   "pygments_lexer": "ipython3",
   "version": "3.9.7"
  }
 },
 "nbformat": 4,
 "nbformat_minor": 5
}
