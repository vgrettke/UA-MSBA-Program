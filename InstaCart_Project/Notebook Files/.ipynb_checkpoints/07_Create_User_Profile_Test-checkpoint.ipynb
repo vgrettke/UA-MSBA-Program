{
 "cells": [
  {
   "cell_type": "markdown",
   "id": "88543eae-c3b0-4cd1-9b47-1d291c7f6b48",
   "metadata": {},
   "source": [
    "# THIS NOTEBOOK IS FOR NEW TESTING DATA <br>\n",
    "# COMPLETE TESTING USER PROFILE CAN BE READ IN via CSV <br>\n",
    "# `complete_user_profile_test.csv`"
   ]
  },
  {
   "cell_type": "markdown",
   "id": "80955e69-8640-4357-847b-7b38ae0c7894",
   "metadata": {},
   "source": [
    "# Creating User Profile"
   ]
  },
  {
   "cell_type": "markdown",
   "id": "8c5511cd-fb60-4ff7-a921-dd4130a22eba",
   "metadata": {},
   "source": [
    "This notebook will look at user habits "
   ]
  },
  {
   "cell_type": "code",
   "execution_count": 2,
   "id": "e0f164e7-782e-48a0-af22-41d8c347ec10",
   "metadata": {},
   "outputs": [],
   "source": [
    "import collections\n",
    "import pathlib\n",
    "import random\n",
    "\n",
    "\n",
    "import matplotlib.pyplot as plt\n",
    "import numpy as np\n",
    "import pandas as pd\n",
    "pd.set_option('display.max_columns', None)\n",
    "import seaborn as sns\n",
    "sns.set_style('whitegrid')\n",
    "\n",
    "%matplotlib inline\n",
    "# To change scientific numbers to float\n",
    "np.set_printoptions(formatter={'float_kind':'{:f}'.format})"
   ]
  },
  {
   "cell_type": "code",
   "execution_count": 49,
   "id": "e09f4a1a-686e-4cb0-b32f-1e91679ed9c5",
   "metadata": {},
   "outputs": [],
   "source": [
    "user_mean = pd.read_csv('test_user_profile.csv')"
   ]
  },
  {
   "cell_type": "code",
   "execution_count": 54,
   "id": "771e6b57-1ea0-4173-aff6-c0d8b30f53e4",
   "metadata": {},
   "outputs": [],
   "source": [
    "# need to store user_ids to update vector ids later\n",
    "user_ids = list(user_mean['user_id'])"
   ]
  },
  {
   "cell_type": "markdown",
   "id": "53d5d2b7-e94f-4dde-ab51-80d29782fa48",
   "metadata": {},
   "source": [
    "# Now we need to turn the product names into numbers"
   ]
  },
  {
   "cell_type": "markdown",
   "id": "d52e47d2-a476-4fe7-bb90-742543105944",
   "metadata": {},
   "source": [
    "Enter Word2Vec <br>\n",
    "<a href = 'https://www.youtube.com/watch?v=hQwFeIupNP0'> Word2Vec Explanattion Video </a> <br> \n",
    "<a href = 'https://youtu.be/Q2NtCcqmIww'> Word2Vec Coding Video </a> <br>\n",
    "<a href = 'https://github.com/codebasics/deep-learning-keras-tf-tutorial/blob/master/42_word2vec_gensim/42_word2vec_gensim.ipynb'> Word2Vec Github Link </a> <br><a href = 'https://radimrehurek.com/gensim/auto_examples/tutorials/run_word2vec.html#sphx-glr-auto-examples-tutorials-run-word2vec-py'> Word2Vec Documentation Link </a>"
   ]
  },
  {
   "cell_type": "code",
   "execution_count": 55,
   "id": "38e8c5c6-4ea4-4118-9ce4-0263be0c3844",
   "metadata": {},
   "outputs": [],
   "source": [
    "import gensim"
   ]
  },
  {
   "cell_type": "code",
   "execution_count": 56,
   "id": "620cfb32-561b-4148-b8ad-310792fd6a71",
   "metadata": {},
   "outputs": [
    {
     "data": {
      "text/plain": [
       "dict"
      ]
     },
     "execution_count": 56,
     "metadata": {},
     "output_type": "execute_result"
    }
   ],
   "source": [
    "# Remove punctuation and prepare for tokenization \n",
    "product_text = user_mean.Products.apply(gensim.utils.simple_preprocess).to_dict()\n",
    "type(product_text)"
   ]
  },
  {
   "cell_type": "code",
   "execution_count": 57,
   "id": "45343058-57c3-4bc1-9c9d-75be86918e5b",
   "metadata": {},
   "outputs": [],
   "source": [
    "# get the number of words in each users product list -> will influence our window size on doc2vec\n",
    "len_list = []\n",
    "for key in product_text:\n",
    "    len_list.append(len(product_text[key]))"
   ]
  },
  {
   "cell_type": "code",
   "execution_count": 58,
   "id": "34c96709-2db1-4fa6-a1b2-f28c0b9d536a",
   "metadata": {},
   "outputs": [],
   "source": [
    "average_product_df = pd.DataFrame()"
   ]
  },
  {
   "cell_type": "code",
   "execution_count": 59,
   "id": "9d0e99c8-fa33-4a74-85f4-3f84eb259244",
   "metadata": {},
   "outputs": [],
   "source": [
    "average_product_df['num_words'] = len_list"
   ]
  },
  {
   "cell_type": "code",
   "execution_count": 60,
   "id": "51ceb625-268a-414c-be65-c87bcce47d3d",
   "metadata": {},
   "outputs": [
    {
     "data": {
      "text/plain": [
       "count      25.000000\n",
       "mean     2461.080000\n",
       "std      1308.464779\n",
       "min       976.000000\n",
       "25%      1625.000000\n",
       "50%      1983.000000\n",
       "75%      3134.000000\n",
       "max      6229.000000\n",
       "Name: num_words, dtype: float64"
      ]
     },
     "execution_count": 60,
     "metadata": {},
     "output_type": "execute_result"
    }
   ],
   "source": [
    "average_product_df['num_words'].describe() # <- lets use a window size of 660 bc it covers 75% of the data "
   ]
  },
  {
   "cell_type": "markdown",
   "id": "3f6a2824-4cdf-481b-a0ca-de38e445f91d",
   "metadata": {},
   "source": [
    "## Create Vectors\n",
    "<a href = 'https://www.markhneedham.com/blog/2015/02/12/pythongensim-creating-bigrams-over-how-i-met-your-mother-transcripts/'> NLP Phrases Tutorial </a> <br>\n"
   ]
  },
  {
   "cell_type": "code",
   "execution_count": 61,
   "id": "f9e38627-7004-48ae-adf0-09ed42ef5537",
   "metadata": {},
   "outputs": [],
   "source": [
    "from gensim.models import Phrases\n",
    "from gensim.models import Word2Vec\n",
    "import nltk \n",
    "import string"
   ]
  },
  {
   "cell_type": "code",
   "execution_count": 62,
   "id": "421cec68-64e0-45ae-89d5-31bb59b3dfe5",
   "metadata": {},
   "outputs": [],
   "source": [
    "from gensim.models.doc2vec import Doc2Vec, TaggedDocument\n",
    "from gensim.test.utils import common_texts"
   ]
  },
  {
   "cell_type": "code",
   "execution_count": 63,
   "id": "662adf70-4d91-4fcd-b0c3-123388e19bd3",
   "metadata": {},
   "outputs": [],
   "source": [
    "product_text_dict = product_text ## .to_dict()"
   ]
  },
  {
   "cell_type": "markdown",
   "id": "bbd0e24d-aab4-4613-8aa4-6fc3dd0e2303",
   "metadata": {},
   "source": [
    "## Doc 2 Vec Model 6 - Vector = 10, Window = max <br>\n",
    "Need to limit the number of vectors so we can reduce the number of features in kmeans"
   ]
  },
  {
   "cell_type": "code",
   "execution_count": 65,
   "id": "fc306828-b553-4303-a667-971096c9abdd",
   "metadata": {},
   "outputs": [
    {
     "data": {
      "text/plain": [
       "25"
      ]
     },
     "execution_count": 65,
     "metadata": {},
     "output_type": "execute_result"
    }
   ],
   "source": [
    "len(product_text_dict)"
   ]
  },
  {
   "cell_type": "code",
   "execution_count": 66,
   "id": "42edbf0e-29f5-461c-80fc-18c2f6bd2dde",
   "metadata": {},
   "outputs": [
    {
     "data": {
      "text/plain": [
       "[(6, 0.9277506470680237),\n",
       " (4, 0.796838641166687),\n",
       " (5, 0.767103374004364),\n",
       " (8, 0.7658442854881287),\n",
       " (9, 0.7640862464904785),\n",
       " (3, 0.7603421211242676),\n",
       " (7, 0.7542337775230408),\n",
       " (11, 0.7476176619529724),\n",
       " (21, 0.7382446527481079),\n",
       " (2, 0.7242172360420227)]"
      ]
     },
     "execution_count": 66,
     "metadata": {},
     "output_type": "execute_result"
    }
   ],
   "source": [
    "documents = [TaggedDocument(val, [key]) for key, val in product_text_dict.items()]\n",
    "\n",
    "# Need to figure out window size\n",
    "\n",
    "model = Doc2Vec(documents, vector_size=10, window=4735, min_count=20, workers=4)\n",
    "\n",
    "cuser = 24\n",
    "\n",
    "products = product_text_dict[cuser]\n",
    "product_document_vector = model.infer_vector(products)\n",
    "model.dv.most_similar([product_document_vector])"
   ]
  },
  {
   "cell_type": "markdown",
   "id": "47dc26ac-e252-4c30-87c0-d225c59534b7",
   "metadata": {},
   "source": [
    "# Using Orignial Doc 2 Vec Model 6 <br> \n",
    "- limited number of vectors without sacrificing accuracy \n",
    "* Next, we add Vectors to dictionary to then add back to `user_mean`"
   ]
  },
  {
   "cell_type": "code",
   "execution_count": 67,
   "id": "74dce300-913e-422b-a845-1d72aa00a0f1",
   "metadata": {},
   "outputs": [],
   "source": [
    "model.save(\"./final_doc2vec.model\")"
   ]
  },
  {
   "cell_type": "code",
   "execution_count": 68,
   "id": "385835cb-9498-4cfe-9977-7de185a81313",
   "metadata": {},
   "outputs": [
    {
     "data": {
      "text/plain": [
       "array([0.145596, -4.771446, 0.202195, -9.125681, 2.134288, -7.243256,\n",
       "       6.717760, 0.357148, 2.048114, 2.091209], dtype=float32)"
      ]
     },
     "execution_count": 68,
     "metadata": {},
     "output_type": "execute_result"
    }
   ],
   "source": [
    "model.infer_vector(products)"
   ]
  },
  {
   "cell_type": "code",
   "execution_count": 69,
   "id": "0d53466c-30dc-4c37-beda-05ae32d20983",
   "metadata": {},
   "outputs": [],
   "source": [
    "vector_dict = {}\n",
    "\n",
    "for key in product_text_dict: \n",
    "    product = product_text_dict[key]\n",
    "    product_document_vector = model.infer_vector(products)\n",
    "    vector_dict[key] = product_document_vector\n"
   ]
  },
  {
   "cell_type": "code",
   "execution_count": 70,
   "id": "4dbb6afb-9a92-4182-b696-50a35d1339de",
   "metadata": {},
   "outputs": [
    {
     "data": {
      "text/html": [
       "<div>\n",
       "<style scoped>\n",
       "    .dataframe tbody tr th:only-of-type {\n",
       "        vertical-align: middle;\n",
       "    }\n",
       "\n",
       "    .dataframe tbody tr th {\n",
       "        vertical-align: top;\n",
       "    }\n",
       "\n",
       "    .dataframe thead th {\n",
       "        text-align: right;\n",
       "    }\n",
       "</style>\n",
       "<table border=\"1\" class=\"dataframe\">\n",
       "  <thead>\n",
       "    <tr style=\"text-align: right;\">\n",
       "      <th></th>\n",
       "      <th>0</th>\n",
       "      <th>1</th>\n",
       "      <th>2</th>\n",
       "      <th>3</th>\n",
       "      <th>4</th>\n",
       "      <th>5</th>\n",
       "      <th>6</th>\n",
       "      <th>7</th>\n",
       "      <th>8</th>\n",
       "      <th>9</th>\n",
       "    </tr>\n",
       "  </thead>\n",
       "  <tbody>\n",
       "    <tr>\n",
       "      <th>0</th>\n",
       "      <td>-0.408277</td>\n",
       "      <td>-3.820417</td>\n",
       "      <td>0.965710</td>\n",
       "      <td>-7.809166</td>\n",
       "      <td>0.981473</td>\n",
       "      <td>-5.607796</td>\n",
       "      <td>5.943647</td>\n",
       "      <td>-0.436163</td>\n",
       "      <td>2.501771</td>\n",
       "      <td>1.929582</td>\n",
       "    </tr>\n",
       "    <tr>\n",
       "      <th>1</th>\n",
       "      <td>-0.344162</td>\n",
       "      <td>-3.912487</td>\n",
       "      <td>1.048274</td>\n",
       "      <td>-8.218671</td>\n",
       "      <td>1.124711</td>\n",
       "      <td>-4.741918</td>\n",
       "      <td>4.620296</td>\n",
       "      <td>-0.752186</td>\n",
       "      <td>2.631187</td>\n",
       "      <td>2.034431</td>\n",
       "    </tr>\n",
       "    <tr>\n",
       "      <th>2</th>\n",
       "      <td>0.524475</td>\n",
       "      <td>-4.163799</td>\n",
       "      <td>0.647743</td>\n",
       "      <td>-8.116487</td>\n",
       "      <td>1.595886</td>\n",
       "      <td>-4.618297</td>\n",
       "      <td>4.678394</td>\n",
       "      <td>0.340795</td>\n",
       "      <td>2.556319</td>\n",
       "      <td>2.113552</td>\n",
       "    </tr>\n",
       "    <tr>\n",
       "      <th>3</th>\n",
       "      <td>-0.434540</td>\n",
       "      <td>-4.286207</td>\n",
       "      <td>0.701886</td>\n",
       "      <td>-8.103796</td>\n",
       "      <td>1.170677</td>\n",
       "      <td>-5.532918</td>\n",
       "      <td>5.702904</td>\n",
       "      <td>-0.556982</td>\n",
       "      <td>2.569367</td>\n",
       "      <td>1.847137</td>\n",
       "    </tr>\n",
       "    <tr>\n",
       "      <th>4</th>\n",
       "      <td>0.048051</td>\n",
       "      <td>-4.848201</td>\n",
       "      <td>0.479462</td>\n",
       "      <td>-8.841644</td>\n",
       "      <td>1.394139</td>\n",
       "      <td>-6.649158</td>\n",
       "      <td>6.462398</td>\n",
       "      <td>-0.362493</td>\n",
       "      <td>2.476308</td>\n",
       "      <td>2.067087</td>\n",
       "    </tr>\n",
       "  </tbody>\n",
       "</table>\n",
       "</div>"
      ],
      "text/plain": [
       "          0         1         2         3         4         5         6  \\\n",
       "0 -0.408277 -3.820417  0.965710 -7.809166  0.981473 -5.607796  5.943647   \n",
       "1 -0.344162 -3.912487  1.048274 -8.218671  1.124711 -4.741918  4.620296   \n",
       "2  0.524475 -4.163799  0.647743 -8.116487  1.595886 -4.618297  4.678394   \n",
       "3 -0.434540 -4.286207  0.701886 -8.103796  1.170677 -5.532918  5.702904   \n",
       "4  0.048051 -4.848201  0.479462 -8.841644  1.394139 -6.649158  6.462398   \n",
       "\n",
       "          7         8         9  \n",
       "0 -0.436163  2.501771  1.929582  \n",
       "1 -0.752186  2.631187  2.034431  \n",
       "2  0.340795  2.556319  2.113552  \n",
       "3 -0.556982  2.569367  1.847137  \n",
       "4 -0.362493  2.476308  2.067087  "
      ]
     },
     "execution_count": 70,
     "metadata": {},
     "output_type": "execute_result"
    }
   ],
   "source": [
    "# Convert to DataFrame \n",
    "vector_df_index = vector_dict.keys()\n",
    "vector_df = pd.DataFrame.from_dict(vector_dict, orient = 'index')\n",
    "vector_df.head()"
   ]
  },
  {
   "cell_type": "code",
   "execution_count": 71,
   "id": "e1f703ce-8637-42a3-83f4-48b2b830dfed",
   "metadata": {},
   "outputs": [],
   "source": [
    "vector_df.reset_index(inplace = True)"
   ]
  },
  {
   "cell_type": "code",
   "execution_count": 72,
   "id": "9d4545d0-375d-4692-a2b9-34570a978327",
   "metadata": {},
   "outputs": [
    {
     "data": {
      "text/html": [
       "<div>\n",
       "<style scoped>\n",
       "    .dataframe tbody tr th:only-of-type {\n",
       "        vertical-align: middle;\n",
       "    }\n",
       "\n",
       "    .dataframe tbody tr th {\n",
       "        vertical-align: top;\n",
       "    }\n",
       "\n",
       "    .dataframe thead th {\n",
       "        text-align: right;\n",
       "    }\n",
       "</style>\n",
       "<table border=\"1\" class=\"dataframe\">\n",
       "  <thead>\n",
       "    <tr style=\"text-align: right;\">\n",
       "      <th></th>\n",
       "      <th>index</th>\n",
       "      <th>0</th>\n",
       "      <th>1</th>\n",
       "      <th>2</th>\n",
       "      <th>3</th>\n",
       "      <th>4</th>\n",
       "      <th>5</th>\n",
       "      <th>6</th>\n",
       "      <th>7</th>\n",
       "      <th>8</th>\n",
       "      <th>9</th>\n",
       "    </tr>\n",
       "  </thead>\n",
       "  <tbody>\n",
       "    <tr>\n",
       "      <th>0</th>\n",
       "      <td>0</td>\n",
       "      <td>-0.408277</td>\n",
       "      <td>-3.820417</td>\n",
       "      <td>0.965710</td>\n",
       "      <td>-7.809166</td>\n",
       "      <td>0.981473</td>\n",
       "      <td>-5.607796</td>\n",
       "      <td>5.943647</td>\n",
       "      <td>-0.436163</td>\n",
       "      <td>2.501771</td>\n",
       "      <td>1.929582</td>\n",
       "    </tr>\n",
       "    <tr>\n",
       "      <th>1</th>\n",
       "      <td>1</td>\n",
       "      <td>-0.344162</td>\n",
       "      <td>-3.912487</td>\n",
       "      <td>1.048274</td>\n",
       "      <td>-8.218671</td>\n",
       "      <td>1.124711</td>\n",
       "      <td>-4.741918</td>\n",
       "      <td>4.620296</td>\n",
       "      <td>-0.752186</td>\n",
       "      <td>2.631187</td>\n",
       "      <td>2.034431</td>\n",
       "    </tr>\n",
       "    <tr>\n",
       "      <th>2</th>\n",
       "      <td>2</td>\n",
       "      <td>0.524475</td>\n",
       "      <td>-4.163799</td>\n",
       "      <td>0.647743</td>\n",
       "      <td>-8.116487</td>\n",
       "      <td>1.595886</td>\n",
       "      <td>-4.618297</td>\n",
       "      <td>4.678394</td>\n",
       "      <td>0.340795</td>\n",
       "      <td>2.556319</td>\n",
       "      <td>2.113552</td>\n",
       "    </tr>\n",
       "    <tr>\n",
       "      <th>3</th>\n",
       "      <td>3</td>\n",
       "      <td>-0.434540</td>\n",
       "      <td>-4.286207</td>\n",
       "      <td>0.701886</td>\n",
       "      <td>-8.103796</td>\n",
       "      <td>1.170677</td>\n",
       "      <td>-5.532918</td>\n",
       "      <td>5.702904</td>\n",
       "      <td>-0.556982</td>\n",
       "      <td>2.569367</td>\n",
       "      <td>1.847137</td>\n",
       "    </tr>\n",
       "    <tr>\n",
       "      <th>4</th>\n",
       "      <td>4</td>\n",
       "      <td>0.048051</td>\n",
       "      <td>-4.848201</td>\n",
       "      <td>0.479462</td>\n",
       "      <td>-8.841644</td>\n",
       "      <td>1.394139</td>\n",
       "      <td>-6.649158</td>\n",
       "      <td>6.462398</td>\n",
       "      <td>-0.362493</td>\n",
       "      <td>2.476308</td>\n",
       "      <td>2.067087</td>\n",
       "    </tr>\n",
       "  </tbody>\n",
       "</table>\n",
       "</div>"
      ],
      "text/plain": [
       "   index         0         1         2         3         4         5  \\\n",
       "0      0 -0.408277 -3.820417  0.965710 -7.809166  0.981473 -5.607796   \n",
       "1      1 -0.344162 -3.912487  1.048274 -8.218671  1.124711 -4.741918   \n",
       "2      2  0.524475 -4.163799  0.647743 -8.116487  1.595886 -4.618297   \n",
       "3      3 -0.434540 -4.286207  0.701886 -8.103796  1.170677 -5.532918   \n",
       "4      4  0.048051 -4.848201  0.479462 -8.841644  1.394139 -6.649158   \n",
       "\n",
       "          6         7         8         9  \n",
       "0  5.943647 -0.436163  2.501771  1.929582  \n",
       "1  4.620296 -0.752186  2.631187  2.034431  \n",
       "2  4.678394  0.340795  2.556319  2.113552  \n",
       "3  5.702904 -0.556982  2.569367  1.847137  \n",
       "4  6.462398 -0.362493  2.476308  2.067087  "
      ]
     },
     "execution_count": 72,
     "metadata": {},
     "output_type": "execute_result"
    }
   ],
   "source": [
    "vector_df_1 = vector_df\n",
    "vector_df_1.head()"
   ]
  },
  {
   "cell_type": "code",
   "execution_count": 73,
   "id": "47face41-66dd-4272-8783-4fe3167a64b3",
   "metadata": {},
   "outputs": [],
   "source": [
    "# need to change index to actual user_id's\n",
    "vector_df_1['index'] = user_ids"
   ]
  },
  {
   "cell_type": "code",
   "execution_count": 75,
   "id": "68959716-6314-45a0-8f6f-32e85c46731b",
   "metadata": {},
   "outputs": [
    {
     "data": {
      "text/html": [
       "<div>\n",
       "<style scoped>\n",
       "    .dataframe tbody tr th:only-of-type {\n",
       "        vertical-align: middle;\n",
       "    }\n",
       "\n",
       "    .dataframe tbody tr th {\n",
       "        vertical-align: top;\n",
       "    }\n",
       "\n",
       "    .dataframe thead th {\n",
       "        text-align: right;\n",
       "    }\n",
       "</style>\n",
       "<table border=\"1\" class=\"dataframe\">\n",
       "  <thead>\n",
       "    <tr style=\"text-align: right;\">\n",
       "      <th></th>\n",
       "      <th>user_id</th>\n",
       "      <th>vector_1</th>\n",
       "      <th>vector_2</th>\n",
       "      <th>vector_3</th>\n",
       "      <th>vector_4</th>\n",
       "      <th>vector_5</th>\n",
       "      <th>vector_6</th>\n",
       "      <th>vector_7</th>\n",
       "      <th>vector_8</th>\n",
       "      <th>vector_9</th>\n",
       "      <th>vector_10</th>\n",
       "    </tr>\n",
       "  </thead>\n",
       "  <tbody>\n",
       "    <tr>\n",
       "      <th>0</th>\n",
       "      <td>12345678912345</td>\n",
       "      <td>-0.408277</td>\n",
       "      <td>-3.820417</td>\n",
       "      <td>0.965710</td>\n",
       "      <td>-7.809166</td>\n",
       "      <td>0.981473</td>\n",
       "      <td>-5.607796</td>\n",
       "      <td>5.943647</td>\n",
       "      <td>-0.436163</td>\n",
       "      <td>2.501771</td>\n",
       "      <td>1.929582</td>\n",
       "    </tr>\n",
       "    <tr>\n",
       "      <th>1</th>\n",
       "      <td>12345678912346</td>\n",
       "      <td>-0.344162</td>\n",
       "      <td>-3.912487</td>\n",
       "      <td>1.048274</td>\n",
       "      <td>-8.218671</td>\n",
       "      <td>1.124711</td>\n",
       "      <td>-4.741918</td>\n",
       "      <td>4.620296</td>\n",
       "      <td>-0.752186</td>\n",
       "      <td>2.631187</td>\n",
       "      <td>2.034431</td>\n",
       "    </tr>\n",
       "    <tr>\n",
       "      <th>2</th>\n",
       "      <td>12345678912347</td>\n",
       "      <td>0.524475</td>\n",
       "      <td>-4.163799</td>\n",
       "      <td>0.647743</td>\n",
       "      <td>-8.116487</td>\n",
       "      <td>1.595886</td>\n",
       "      <td>-4.618297</td>\n",
       "      <td>4.678394</td>\n",
       "      <td>0.340795</td>\n",
       "      <td>2.556319</td>\n",
       "      <td>2.113552</td>\n",
       "    </tr>\n",
       "    <tr>\n",
       "      <th>3</th>\n",
       "      <td>12345678912348</td>\n",
       "      <td>-0.434540</td>\n",
       "      <td>-4.286207</td>\n",
       "      <td>0.701886</td>\n",
       "      <td>-8.103796</td>\n",
       "      <td>1.170677</td>\n",
       "      <td>-5.532918</td>\n",
       "      <td>5.702904</td>\n",
       "      <td>-0.556982</td>\n",
       "      <td>2.569367</td>\n",
       "      <td>1.847137</td>\n",
       "    </tr>\n",
       "    <tr>\n",
       "      <th>4</th>\n",
       "      <td>12345678912349</td>\n",
       "      <td>0.048051</td>\n",
       "      <td>-4.848201</td>\n",
       "      <td>0.479462</td>\n",
       "      <td>-8.841644</td>\n",
       "      <td>1.394139</td>\n",
       "      <td>-6.649158</td>\n",
       "      <td>6.462398</td>\n",
       "      <td>-0.362493</td>\n",
       "      <td>2.476308</td>\n",
       "      <td>2.067087</td>\n",
       "    </tr>\n",
       "  </tbody>\n",
       "</table>\n",
       "</div>"
      ],
      "text/plain": [
       "          user_id  vector_1  vector_2  vector_3  vector_4  vector_5  vector_6  \\\n",
       "0  12345678912345 -0.408277 -3.820417  0.965710 -7.809166  0.981473 -5.607796   \n",
       "1  12345678912346 -0.344162 -3.912487  1.048274 -8.218671  1.124711 -4.741918   \n",
       "2  12345678912347  0.524475 -4.163799  0.647743 -8.116487  1.595886 -4.618297   \n",
       "3  12345678912348 -0.434540 -4.286207  0.701886 -8.103796  1.170677 -5.532918   \n",
       "4  12345678912349  0.048051 -4.848201  0.479462 -8.841644  1.394139 -6.649158   \n",
       "\n",
       "   vector_7  vector_8  vector_9  vector_10  \n",
       "0  5.943647 -0.436163  2.501771   1.929582  \n",
       "1  4.620296 -0.752186  2.631187   2.034431  \n",
       "2  4.678394  0.340795  2.556319   2.113552  \n",
       "3  5.702904 -0.556982  2.569367   1.847137  \n",
       "4  6.462398 -0.362493  2.476308   2.067087  "
      ]
     },
     "execution_count": 75,
     "metadata": {},
     "output_type": "execute_result"
    }
   ],
   "source": [
    "# df.rename(columns={\"A\": \"a\", \"B\": \"c\"})\n",
    "user_mean_v = vector_df_1.rename(columns = {'index': 'user_id', \n",
    "                             0: 'vector_1', \n",
    "                             1: 'vector_2',\n",
    "                             2: 'vector_3',\n",
    "                             3: 'vector_4',\n",
    "                             4: 'vector_5',\n",
    "                             5: 'vector_6',\n",
    "                             6: 'vector_7',\n",
    "                             7: 'vector_8',\n",
    "                             8: 'vector_9',\n",
    "                             9: 'vector_10'})\n",
    "user_mean_v.head()"
   ]
  },
  {
   "cell_type": "markdown",
   "id": "e5e1052c-2908-42c2-b170-bc11b2565fdb",
   "metadata": {},
   "source": [
    "### `user_mean_v` is ready, now we need to join `user_mean_v` with `user_mean`"
   ]
  },
  {
   "cell_type": "code",
   "execution_count": 76,
   "id": "7d8509c4-5f32-4b67-85c9-31708db83820",
   "metadata": {},
   "outputs": [
    {
     "data": {
      "text/html": [
       "<div>\n",
       "<style scoped>\n",
       "    .dataframe tbody tr th:only-of-type {\n",
       "        vertical-align: middle;\n",
       "    }\n",
       "\n",
       "    .dataframe tbody tr th {\n",
       "        vertical-align: top;\n",
       "    }\n",
       "\n",
       "    .dataframe thead th {\n",
       "        text-align: right;\n",
       "    }\n",
       "</style>\n",
       "<table border=\"1\" class=\"dataframe\">\n",
       "  <thead>\n",
       "    <tr style=\"text-align: right;\">\n",
       "      <th></th>\n",
       "      <th>user_id</th>\n",
       "      <th>order_dow</th>\n",
       "      <th>order_hour_of_day</th>\n",
       "      <th>days_since_prior_order</th>\n",
       "      <th>num_orders</th>\n",
       "      <th>num_products</th>\n",
       "      <th>avg_num_products_per_order</th>\n",
       "      <th>Products</th>\n",
       "    </tr>\n",
       "  </thead>\n",
       "  <tbody>\n",
       "    <tr>\n",
       "      <th>0</th>\n",
       "      <td>12345678912345</td>\n",
       "      <td>3.032895</td>\n",
       "      <td>10.707237</td>\n",
       "      <td>5.746711</td>\n",
       "      <td>60</td>\n",
       "      <td>67</td>\n",
       "      <td>1.116667</td>\n",
       "      <td>Bag of Organic Bananas Bag of Organic Bananas ...</td>\n",
       "    </tr>\n",
       "    <tr>\n",
       "      <th>1</th>\n",
       "      <td>12345678912346</td>\n",
       "      <td>3.449573</td>\n",
       "      <td>15.948718</td>\n",
       "      <td>6.222222</td>\n",
       "      <td>50</td>\n",
       "      <td>254</td>\n",
       "      <td>5.080000</td>\n",
       "      <td>Bag of Organic Bananas Bag of Organic Bananas ...</td>\n",
       "    </tr>\n",
       "    <tr>\n",
       "      <th>2</th>\n",
       "      <td>12345678912347</td>\n",
       "      <td>2.863785</td>\n",
       "      <td>12.504078</td>\n",
       "      <td>4.689233</td>\n",
       "      <td>82</td>\n",
       "      <td>178</td>\n",
       "      <td>2.170732</td>\n",
       "      <td>Romaine Hearts Romaine Hearts Large Alfresco E...</td>\n",
       "    </tr>\n",
       "    <tr>\n",
       "      <th>3</th>\n",
       "      <td>12345678912348</td>\n",
       "      <td>3.029491</td>\n",
       "      <td>12.180965</td>\n",
       "      <td>6.297587</td>\n",
       "      <td>62</td>\n",
       "      <td>246</td>\n",
       "      <td>3.967742</td>\n",
       "      <td>Vanilla Milk Chocolate Almond Ice Cream Bars M...</td>\n",
       "    </tr>\n",
       "    <tr>\n",
       "      <th>4</th>\n",
       "      <td>12345678912349</td>\n",
       "      <td>1.658098</td>\n",
       "      <td>13.883033</td>\n",
       "      <td>5.143959</td>\n",
       "      <td>48</td>\n",
       "      <td>156</td>\n",
       "      <td>3.250000</td>\n",
       "      <td>Organic Baby Carrots Organic Baby Carrots Orga...</td>\n",
       "    </tr>\n",
       "  </tbody>\n",
       "</table>\n",
       "</div>"
      ],
      "text/plain": [
       "          user_id  order_dow  order_hour_of_day  days_since_prior_order  \\\n",
       "0  12345678912345   3.032895          10.707237                5.746711   \n",
       "1  12345678912346   3.449573          15.948718                6.222222   \n",
       "2  12345678912347   2.863785          12.504078                4.689233   \n",
       "3  12345678912348   3.029491          12.180965                6.297587   \n",
       "4  12345678912349   1.658098          13.883033                5.143959   \n",
       "\n",
       "   num_orders  num_products  avg_num_products_per_order  \\\n",
       "0          60            67                    1.116667   \n",
       "1          50           254                    5.080000   \n",
       "2          82           178                    2.170732   \n",
       "3          62           246                    3.967742   \n",
       "4          48           156                    3.250000   \n",
       "\n",
       "                                            Products  \n",
       "0  Bag of Organic Bananas Bag of Organic Bananas ...  \n",
       "1  Bag of Organic Bananas Bag of Organic Bananas ...  \n",
       "2  Romaine Hearts Romaine Hearts Large Alfresco E...  \n",
       "3  Vanilla Milk Chocolate Almond Ice Cream Bars M...  \n",
       "4  Organic Baby Carrots Organic Baby Carrots Orga...  "
      ]
     },
     "execution_count": 76,
     "metadata": {},
     "output_type": "execute_result"
    }
   ],
   "source": [
    "user_mean.head()"
   ]
  },
  {
   "cell_type": "code",
   "execution_count": 77,
   "id": "e2938e1a-0954-48e6-bfc9-ea265535e79b",
   "metadata": {},
   "outputs": [],
   "source": [
    "user_mean_join = pd.merge(user_mean, user_mean_v, how = 'left', on = 'user_id')"
   ]
  },
  {
   "cell_type": "code",
   "execution_count": 78,
   "id": "0509fd66-2381-45ba-82c2-61bd14ed9edc",
   "metadata": {},
   "outputs": [],
   "source": [
    "user_mean_join.drop(columns = 'Products', inplace = True)"
   ]
  },
  {
   "cell_type": "code",
   "execution_count": 79,
   "id": "e9723bba-51ca-476b-88be-0c0294a7c606",
   "metadata": {},
   "outputs": [],
   "source": [
    "user_mean_final = user_mean_join.set_index('user_id')"
   ]
  },
  {
   "cell_type": "code",
   "execution_count": 80,
   "id": "e61d2194-2abd-4770-89f6-8fd5fb74bae4",
   "metadata": {},
   "outputs": [
    {
     "data": {
      "text/html": [
       "<div>\n",
       "<style scoped>\n",
       "    .dataframe tbody tr th:only-of-type {\n",
       "        vertical-align: middle;\n",
       "    }\n",
       "\n",
       "    .dataframe tbody tr th {\n",
       "        vertical-align: top;\n",
       "    }\n",
       "\n",
       "    .dataframe thead th {\n",
       "        text-align: right;\n",
       "    }\n",
       "</style>\n",
       "<table border=\"1\" class=\"dataframe\">\n",
       "  <thead>\n",
       "    <tr style=\"text-align: right;\">\n",
       "      <th></th>\n",
       "      <th>order_dow</th>\n",
       "      <th>order_hour_of_day</th>\n",
       "      <th>days_since_prior_order</th>\n",
       "      <th>num_orders</th>\n",
       "      <th>num_products</th>\n",
       "      <th>avg_num_products_per_order</th>\n",
       "      <th>vector_1</th>\n",
       "      <th>vector_2</th>\n",
       "      <th>vector_3</th>\n",
       "      <th>vector_4</th>\n",
       "      <th>vector_5</th>\n",
       "      <th>vector_6</th>\n",
       "      <th>vector_7</th>\n",
       "      <th>vector_8</th>\n",
       "      <th>vector_9</th>\n",
       "      <th>vector_10</th>\n",
       "    </tr>\n",
       "    <tr>\n",
       "      <th>user_id</th>\n",
       "      <th></th>\n",
       "      <th></th>\n",
       "      <th></th>\n",
       "      <th></th>\n",
       "      <th></th>\n",
       "      <th></th>\n",
       "      <th></th>\n",
       "      <th></th>\n",
       "      <th></th>\n",
       "      <th></th>\n",
       "      <th></th>\n",
       "      <th></th>\n",
       "      <th></th>\n",
       "      <th></th>\n",
       "      <th></th>\n",
       "      <th></th>\n",
       "    </tr>\n",
       "  </thead>\n",
       "  <tbody>\n",
       "    <tr>\n",
       "      <th>12345678912345</th>\n",
       "      <td>3.032895</td>\n",
       "      <td>10.707237</td>\n",
       "      <td>5.746711</td>\n",
       "      <td>60</td>\n",
       "      <td>67</td>\n",
       "      <td>1.116667</td>\n",
       "      <td>-0.408277</td>\n",
       "      <td>-3.820417</td>\n",
       "      <td>0.965710</td>\n",
       "      <td>-7.809166</td>\n",
       "      <td>0.981473</td>\n",
       "      <td>-5.607796</td>\n",
       "      <td>5.943647</td>\n",
       "      <td>-0.436163</td>\n",
       "      <td>2.501771</td>\n",
       "      <td>1.929582</td>\n",
       "    </tr>\n",
       "    <tr>\n",
       "      <th>12345678912346</th>\n",
       "      <td>3.449573</td>\n",
       "      <td>15.948718</td>\n",
       "      <td>6.222222</td>\n",
       "      <td>50</td>\n",
       "      <td>254</td>\n",
       "      <td>5.080000</td>\n",
       "      <td>-0.344162</td>\n",
       "      <td>-3.912487</td>\n",
       "      <td>1.048274</td>\n",
       "      <td>-8.218671</td>\n",
       "      <td>1.124711</td>\n",
       "      <td>-4.741918</td>\n",
       "      <td>4.620296</td>\n",
       "      <td>-0.752186</td>\n",
       "      <td>2.631187</td>\n",
       "      <td>2.034431</td>\n",
       "    </tr>\n",
       "    <tr>\n",
       "      <th>12345678912347</th>\n",
       "      <td>2.863785</td>\n",
       "      <td>12.504078</td>\n",
       "      <td>4.689233</td>\n",
       "      <td>82</td>\n",
       "      <td>178</td>\n",
       "      <td>2.170732</td>\n",
       "      <td>0.524475</td>\n",
       "      <td>-4.163799</td>\n",
       "      <td>0.647743</td>\n",
       "      <td>-8.116487</td>\n",
       "      <td>1.595886</td>\n",
       "      <td>-4.618297</td>\n",
       "      <td>4.678394</td>\n",
       "      <td>0.340795</td>\n",
       "      <td>2.556319</td>\n",
       "      <td>2.113552</td>\n",
       "    </tr>\n",
       "    <tr>\n",
       "      <th>12345678912348</th>\n",
       "      <td>3.029491</td>\n",
       "      <td>12.180965</td>\n",
       "      <td>6.297587</td>\n",
       "      <td>62</td>\n",
       "      <td>246</td>\n",
       "      <td>3.967742</td>\n",
       "      <td>-0.434540</td>\n",
       "      <td>-4.286207</td>\n",
       "      <td>0.701886</td>\n",
       "      <td>-8.103796</td>\n",
       "      <td>1.170677</td>\n",
       "      <td>-5.532918</td>\n",
       "      <td>5.702904</td>\n",
       "      <td>-0.556982</td>\n",
       "      <td>2.569367</td>\n",
       "      <td>1.847137</td>\n",
       "    </tr>\n",
       "    <tr>\n",
       "      <th>12345678912349</th>\n",
       "      <td>1.658098</td>\n",
       "      <td>13.883033</td>\n",
       "      <td>5.143959</td>\n",
       "      <td>48</td>\n",
       "      <td>156</td>\n",
       "      <td>3.250000</td>\n",
       "      <td>0.048051</td>\n",
       "      <td>-4.848201</td>\n",
       "      <td>0.479462</td>\n",
       "      <td>-8.841644</td>\n",
       "      <td>1.394139</td>\n",
       "      <td>-6.649158</td>\n",
       "      <td>6.462398</td>\n",
       "      <td>-0.362493</td>\n",
       "      <td>2.476308</td>\n",
       "      <td>2.067087</td>\n",
       "    </tr>\n",
       "  </tbody>\n",
       "</table>\n",
       "</div>"
      ],
      "text/plain": [
       "                order_dow  order_hour_of_day  days_since_prior_order  \\\n",
       "user_id                                                                \n",
       "12345678912345   3.032895          10.707237                5.746711   \n",
       "12345678912346   3.449573          15.948718                6.222222   \n",
       "12345678912347   2.863785          12.504078                4.689233   \n",
       "12345678912348   3.029491          12.180965                6.297587   \n",
       "12345678912349   1.658098          13.883033                5.143959   \n",
       "\n",
       "                num_orders  num_products  avg_num_products_per_order  \\\n",
       "user_id                                                                \n",
       "12345678912345          60            67                    1.116667   \n",
       "12345678912346          50           254                    5.080000   \n",
       "12345678912347          82           178                    2.170732   \n",
       "12345678912348          62           246                    3.967742   \n",
       "12345678912349          48           156                    3.250000   \n",
       "\n",
       "                vector_1  vector_2  vector_3  vector_4  vector_5  vector_6  \\\n",
       "user_id                                                                      \n",
       "12345678912345 -0.408277 -3.820417  0.965710 -7.809166  0.981473 -5.607796   \n",
       "12345678912346 -0.344162 -3.912487  1.048274 -8.218671  1.124711 -4.741918   \n",
       "12345678912347  0.524475 -4.163799  0.647743 -8.116487  1.595886 -4.618297   \n",
       "12345678912348 -0.434540 -4.286207  0.701886 -8.103796  1.170677 -5.532918   \n",
       "12345678912349  0.048051 -4.848201  0.479462 -8.841644  1.394139 -6.649158   \n",
       "\n",
       "                vector_7  vector_8  vector_9  vector_10  \n",
       "user_id                                                  \n",
       "12345678912345  5.943647 -0.436163  2.501771   1.929582  \n",
       "12345678912346  4.620296 -0.752186  2.631187   2.034431  \n",
       "12345678912347  4.678394  0.340795  2.556319   2.113552  \n",
       "12345678912348  5.702904 -0.556982  2.569367   1.847137  \n",
       "12345678912349  6.462398 -0.362493  2.476308   2.067087  "
      ]
     },
     "execution_count": 80,
     "metadata": {},
     "output_type": "execute_result"
    }
   ],
   "source": [
    "user_mean_final.head()"
   ]
  },
  {
   "cell_type": "code",
   "execution_count": 81,
   "id": "5b7ac12d-eb79-407c-9d51-b450620ce0a8",
   "metadata": {},
   "outputs": [],
   "source": [
    "user_mean_final.to_csv('./complete_user_profile_test.csv')"
   ]
  },
  {
   "cell_type": "code",
   "execution_count": null,
   "id": "33fa8057-bb4d-416e-a339-2a18ef4aa4ad",
   "metadata": {},
   "outputs": [],
   "source": []
  }
 ],
 "metadata": {
  "kernelspec": {
   "display_name": "Python 3 (ipykernel)",
   "language": "python",
   "name": "python3"
  },
  "language_info": {
   "codemirror_mode": {
    "name": "ipython",
    "version": 3
   },
   "file_extension": ".py",
   "mimetype": "text/x-python",
   "name": "python",
   "nbconvert_exporter": "python",
   "pygments_lexer": "ipython3",
   "version": "3.9.12"
  }
 },
 "nbformat": 4,
 "nbformat_minor": 5
}
