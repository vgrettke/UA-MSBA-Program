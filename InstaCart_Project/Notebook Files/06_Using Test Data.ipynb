{
 "cells": [
  {
   "cell_type": "code",
   "execution_count": 1,
   "id": "b167d206-a950-4424-861d-7c6715d956b4",
   "metadata": {},
   "outputs": [],
   "source": [
    "import pandas as pd\n",
    "import json \n",
    "import numpy as np\n",
    "import pathlib"
   ]
  },
  {
   "cell_type": "markdown",
   "id": "37e2622e-05a4-4947-8d11-69ae40b77181",
   "metadata": {},
   "source": [
    "# Read in test data from json format"
   ]
  },
  {
   "cell_type": "code",
   "execution_count": 2,
   "id": "25325dc6-e6ff-4dd8-a910-4df903e9c76f",
   "metadata": {},
   "outputs": [
    {
     "data": {
      "text/plain": [
       "dict_keys(['order_history', 'current_order'])"
      ]
     },
     "execution_count": 2,
     "metadata": {},
     "output_type": "execute_result"
    }
   ],
   "source": [
    "test_data_dir = pathlib.Path('test_data/')\n",
    "test_data_files = list(test_data_dir.glob('*.json'))\n",
    "\n",
    "all_test_data = {}\n",
    "for test_data_file in test_data_files: \n",
    "    with open(test_data_file) as fin:\n",
    "        all_test_data[test_data_file.name.replace('.json', '')] = json.load(fin)\n",
    "        \n",
    "all_test_data['test_1'].keys()"
   ]
  },
  {
   "cell_type": "markdown",
   "id": "b277da60-028f-4c4a-a08b-10b5ce7c1364",
   "metadata": {},
   "source": [
    "## Convert To Dataframe"
   ]
  },
  {
   "cell_type": "code",
   "execution_count": 3,
   "id": "8fd6329a-bc28-4924-b4f5-9ff7c7b4a65f",
   "metadata": {},
   "outputs": [],
   "source": [
    "table_values = []\n",
    "user = 12345678912345\n",
    "order_id = 98765432198765\n",
    "order_num = 0\n",
    "for test in all_test_data:\n",
    "    test_order_history = all_test_data[test]['order_history']\n",
    "    for order in test_order_history:\n",
    "        order_num += 1 \n",
    "        product_list = test_order_history[order]['products']\n",
    "        dow = test_order_history[order]['order_dow']\n",
    "        hour= test_order_history[order]['order_hour_of_day']\n",
    "        days = test_order_history[order]['days_since_prior_order']\n",
    "        for product in product_list:\n",
    "            table_values.append([user, order_id, order, product, dow, hour, days])\n",
    "        order_id+=1\n",
    "    user +=1\n",
    "   \n",
    "test_data = pd.DataFrame(table_values, columns=['user_id', 'order_id', 'order', 'product_id', 'order_dow', 'order_hour_of_day', 'days_since_prior_order'])"
   ]
  },
  {
   "cell_type": "code",
   "execution_count": 4,
   "id": "271f4571-674b-46a7-8e04-94e57e24c538",
   "metadata": {},
   "outputs": [
    {
     "data": {
      "text/plain": [
       "(16335, 7)"
      ]
     },
     "execution_count": 4,
     "metadata": {},
     "output_type": "execute_result"
    }
   ],
   "source": [
    "test_data.shape"
   ]
  },
  {
   "cell_type": "code",
   "execution_count": 5,
   "id": "d30df987-d105-4f75-ba2b-76e0caced6f6",
   "metadata": {},
   "outputs": [],
   "source": [
    "products_csv = pd.read_csv('products.csv')"
   ]
  },
  {
   "cell_type": "code",
   "execution_count": 6,
   "id": "e152a8f4-eaad-476d-83b8-f0abf19a8197",
   "metadata": {},
   "outputs": [],
   "source": [
    "test_data = pd.merge(test_data, products_csv, how = 'inner', on = 'product_id')"
   ]
  },
  {
   "cell_type": "code",
   "execution_count": 7,
   "id": "0cfa10d8-ee16-4ac9-9c0e-5191e10a4be1",
   "metadata": {},
   "outputs": [
    {
     "data": {
      "text/plain": [
       "Index(['user_id', 'order_id', 'order', 'product_id', 'order_dow',\n",
       "       'order_hour_of_day', 'days_since_prior_order', 'product_name',\n",
       "       'aisle_id', 'department_id'],\n",
       "      dtype='object')"
      ]
     },
     "execution_count": 7,
     "metadata": {},
     "output_type": "execute_result"
    }
   ],
   "source": [
    "test_data.columns"
   ]
  },
  {
   "cell_type": "code",
   "execution_count": 8,
   "id": "fbb75886-ac8f-41ef-a10f-cdc8707c00ee",
   "metadata": {},
   "outputs": [],
   "source": [
    "test_data.drop(['product_id', 'aisle_id', 'department_id'], axis = 1, inplace = True)"
   ]
  },
  {
   "cell_type": "code",
   "execution_count": 9,
   "id": "5377635a-ecc2-4e49-b5a1-6da9467c4415",
   "metadata": {},
   "outputs": [
    {
     "data": {
      "text/plain": [
       "(16335, 7)"
      ]
     },
     "execution_count": 9,
     "metadata": {},
     "output_type": "execute_result"
    }
   ],
   "source": [
    "test_data.shape"
   ]
  },
  {
   "cell_type": "markdown",
   "id": "5ca88727-e86f-4484-94c9-157ea36121b4",
   "metadata": {},
   "source": [
    "### Create User mean profile for clustering purposes "
   ]
  },
  {
   "cell_type": "code",
   "execution_count": 10,
   "id": "4b03a1e6-6e67-4cdd-8b91-5d4ca3f9a400",
   "metadata": {},
   "outputs": [
    {
     "name": "stderr",
     "output_type": "stream",
     "text": [
      "C:\\Users\\barry\\AppData\\Local\\Temp\\ipykernel_36492\\222668164.py:1: FutureWarning: Indexing with multiple keys (implicitly converted to a tuple of keys) will be deprecated, use a list instead.\n",
      "  test_user_mean = test_data.groupby('user_id')['order_dow','order_hour_of_day', 'days_since_prior_order'].agg(np.nanmean)\n"
     ]
    }
   ],
   "source": [
    "test_user_mean = test_data.groupby('user_id')['order_dow','order_hour_of_day', 'days_since_prior_order'].agg(np.nanmean)\n",
    "total_orders = test_data.groupby('user_id').order_id.nunique() # <- series, will need to be added to larger dataframe \n",
    "# Average number of products in each order \n",
    "num_products = test_data.groupby('user_id').product_name.nunique()\n",
    "\n",
    "# add average number of products in each order to user_mean df\n",
    "test_user_mean['num_orders'] = total_orders\n",
    "test_user_mean['num_products'] = num_products\n",
    "test_user_mean['avg_num_products_per_order'] = num_products / total_orders\n",
    "\n",
    "# Add every product ever ordered for each user \n",
    "# Combine users products into a list specific to that user   \n",
    "product_list = []\n",
    "for product in test_data.groupby('user_id')['product_name']:\n",
    "    product_list.append(' '.join(product[1]))\n",
    "\n",
    "test_user_mean['Products'] = product_list   \n",
    "    "
   ]
  },
  {
   "cell_type": "code",
   "execution_count": 11,
   "id": "94d505f9-a311-486b-882b-8ca60a41237b",
   "metadata": {},
   "outputs": [],
   "source": [
    "# \n",
    "test_user_mean.to_csv('test_user_profile.csv')"
   ]
  },
  {
   "cell_type": "code",
   "execution_count": 12,
   "id": "75ccb2f7-67f3-474e-bbfa-654d7a6a5124",
   "metadata": {},
   "outputs": [],
   "source": [
    "# test_data.to_csv('project_order_history_test_data.csv')"
   ]
  },
  {
   "cell_type": "markdown",
   "id": "09df349f-993b-4afb-9a64-12ef548da29a",
   "metadata": {},
   "source": [
    "### Get the current order products into a dataframe with user id and order id and list of products in one row"
   ]
  },
  {
   "cell_type": "code",
   "execution_count": 13,
   "id": "e660219b-1822-4094-8bc2-c90cf5fec5c7",
   "metadata": {},
   "outputs": [],
   "source": [
    "current_table_values = []\n",
    "user = 12345678912345\n",
    "order_id = 98765432198765\n",
    "for test in all_test_data:\n",
    "    test_current_order = all_test_data[test]['current_order']\n",
    "    for order in test_current_order:\n",
    "        product_list = test_current_order[order]['products']\n",
    "        dow = test_current_order[order]['order_dow']\n",
    "        hour= test_current_order[order]['order_hour_of_day']\n",
    "        days = test_current_order[order]['days_since_prior_order']\n",
    "        for product in product_list:\n",
    "            current_table_values.append([user, order_id, order, product, dow, hour, days])\n",
    "    user +=1\n",
    "    order_id+=1\n",
    "current_test_data = pd.DataFrame(current_table_values, columns=['user_id', 'order_id', 'order', 'product_id', 'order_dow', 'order_hour_of_day', 'days_since_prior_order'])"
   ]
  },
  {
   "cell_type": "code",
   "execution_count": 14,
   "id": "07949042-71bf-4677-a9ff-6d870f43950c",
   "metadata": {},
   "outputs": [],
   "source": [
    "current_test_data = pd.merge(current_test_data, products_csv, how = 'inner', on = 'product_id')"
   ]
  },
  {
   "cell_type": "code",
   "execution_count": 15,
   "id": "9f271c73-4ed5-4721-8a69-67f36761ba9d",
   "metadata": {},
   "outputs": [],
   "source": [
    "current_test_data.drop(['product_id', 'aisle_id', 'department_id'], axis = 1, inplace = True)"
   ]
  },
  {
   "cell_type": "markdown",
   "id": "fdbef8e7-96d6-4e9a-9a08-2a3e9859f90b",
   "metadata": {},
   "source": [
    "## Get a list of the products in one row of the dataframe"
   ]
  },
  {
   "cell_type": "code",
   "execution_count": 16,
   "id": "22fa3e77-c839-4366-bb0f-2c855d9a75e5",
   "metadata": {},
   "outputs": [],
   "source": [
    "products = current_test_data['product_name']\n",
    "\n",
    "product_no_space = []\n",
    "for product in products:\n",
    "    product = product.replace(\" \", \"_\")\n",
    "    product_no_space.append(product)\n",
    "\n",
    "# drop original column, replace it with one with no space\n",
    "current_test_data.drop(['product_name'], axis=1)\n",
    "current_test_data['product_name'] = product_no_space\n",
    "\n",
    "# add product name to each user\n",
    "name_list = []\n",
    "for p_name in current_test_data.groupby('order_id')['product_name']:\n",
    "    name_list.append(' '.join(p_name[1]))\n",
    "    \n",
    "order_id = current_test_data.groupby('order_id')['product_name'].agg('count').index\n",
    "# user_id = current_test_data.groupby(['user_id'])['product_name'].agg('count').index\n",
    "user_id = current_test_data['user_id'].drop_duplicates()\n",
    "order_id = current_test_data['order_id'].drop_duplicates()\n",
    "current_test_order_products = pd.DataFrame({'user_id': user_id, 'order_id':order_id, 'products':name_list})\n"
   ]
  },
  {
   "cell_type": "code",
   "execution_count": 17,
   "id": "cea31a09-fcab-4c70-ab2a-598c6e7e84c6",
   "metadata": {},
   "outputs": [
    {
     "data": {
      "text/html": [
       "<div>\n",
       "<style scoped>\n",
       "    .dataframe tbody tr th:only-of-type {\n",
       "        vertical-align: middle;\n",
       "    }\n",
       "\n",
       "    .dataframe tbody tr th {\n",
       "        vertical-align: top;\n",
       "    }\n",
       "\n",
       "    .dataframe thead th {\n",
       "        text-align: right;\n",
       "    }\n",
       "</style>\n",
       "<table border=\"1\" class=\"dataframe\">\n",
       "  <thead>\n",
       "    <tr style=\"text-align: right;\">\n",
       "      <th></th>\n",
       "      <th>user_id</th>\n",
       "      <th>order_id</th>\n",
       "      <th>products</th>\n",
       "    </tr>\n",
       "  </thead>\n",
       "  <tbody>\n",
       "    <tr>\n",
       "      <th>0</th>\n",
       "      <td>12345678912345</td>\n",
       "      <td>98765432198765</td>\n",
       "      <td>Clementines Sweet_&amp;_Salty_Nut_Granola_Bars_Peanut</td>\n",
       "    </tr>\n",
       "    <tr>\n",
       "      <th>2</th>\n",
       "      <td>12345678912346</td>\n",
       "      <td>98765432198766</td>\n",
       "      <td>Organic_Butternut_Squash Organic_Grape_Tomatoes</td>\n",
       "    </tr>\n",
       "    <tr>\n",
       "      <th>4</th>\n",
       "      <td>12345678912347</td>\n",
       "      <td>98765432198767</td>\n",
       "      <td>Vanilla_Unsweetened_Almond_Milk Total_2%_Greek...</td>\n",
       "    </tr>\n",
       "    <tr>\n",
       "      <th>6</th>\n",
       "      <td>12345678912348</td>\n",
       "      <td>98765432198768</td>\n",
       "      <td>Grapefruit_Sparkling_Water Sliced_Sourdough_Bread</td>\n",
       "    </tr>\n",
       "    <tr>\n",
       "      <th>8</th>\n",
       "      <td>12345678912349</td>\n",
       "      <td>98765432198769</td>\n",
       "      <td>Organic_Gluten_Free_Chia_Plus_with_Quinoa_&amp;_Am...</td>\n",
       "    </tr>\n",
       "  </tbody>\n",
       "</table>\n",
       "</div>"
      ],
      "text/plain": [
       "          user_id        order_id  \\\n",
       "0  12345678912345  98765432198765   \n",
       "2  12345678912346  98765432198766   \n",
       "4  12345678912347  98765432198767   \n",
       "6  12345678912348  98765432198768   \n",
       "8  12345678912349  98765432198769   \n",
       "\n",
       "                                            products  \n",
       "0  Clementines Sweet_&_Salty_Nut_Granola_Bars_Peanut  \n",
       "2    Organic_Butternut_Squash Organic_Grape_Tomatoes  \n",
       "4  Vanilla_Unsweetened_Almond_Milk Total_2%_Greek...  \n",
       "6  Grapefruit_Sparkling_Water Sliced_Sourdough_Bread  \n",
       "8  Organic_Gluten_Free_Chia_Plus_with_Quinoa_&_Am...  "
      ]
     },
     "execution_count": 17,
     "metadata": {},
     "output_type": "execute_result"
    }
   ],
   "source": [
    "current_test_order_products.head()"
   ]
  },
  {
   "cell_type": "markdown",
   "id": "852c0c3e-78b2-493e-afe9-b232df72cc33",
   "metadata": {},
   "source": [
    "###### Will need to get the xy coordinates of each new test user. calculate the euclidiean distance and use that to assign to each cluster"
   ]
  },
  {
   "cell_type": "markdown",
   "id": "286e2531-4618-47be-8cb6-e55661fc9de2",
   "metadata": {},
   "source": [
    "### Create a dictionary of current order information "
   ]
  },
  {
   "cell_type": "code",
   "execution_count": 18,
   "id": "52f847fc-a961-4b2d-8e14-b5f4b68b3e11",
   "metadata": {},
   "outputs": [],
   "source": [
    "current_order_products_list = []\n",
    "for row in current_test_order_products['products']:\n",
    "    productsName = row.split(' ')\n",
    "    current_order_products_list.append(productsName)\n",
    "#     current_test_order_products['products']"
   ]
  },
  {
   "cell_type": "code",
   "execution_count": 19,
   "id": "1ff338b8-a2e6-4daf-972b-ceece83074a8",
   "metadata": {},
   "outputs": [
    {
     "data": {
      "text/html": [
       "<div>\n",
       "<style scoped>\n",
       "    .dataframe tbody tr th:only-of-type {\n",
       "        vertical-align: middle;\n",
       "    }\n",
       "\n",
       "    .dataframe tbody tr th {\n",
       "        vertical-align: top;\n",
       "    }\n",
       "\n",
       "    .dataframe thead th {\n",
       "        text-align: right;\n",
       "    }\n",
       "</style>\n",
       "<table border=\"1\" class=\"dataframe\">\n",
       "  <thead>\n",
       "    <tr style=\"text-align: right;\">\n",
       "      <th></th>\n",
       "      <th>user_id</th>\n",
       "      <th>order_id</th>\n",
       "      <th>products</th>\n",
       "    </tr>\n",
       "  </thead>\n",
       "  <tbody>\n",
       "    <tr>\n",
       "      <th>0</th>\n",
       "      <td>12345678912345</td>\n",
       "      <td>98765432198765</td>\n",
       "      <td>Clementines Sweet_&amp;_Salty_Nut_Granola_Bars_Peanut</td>\n",
       "    </tr>\n",
       "    <tr>\n",
       "      <th>2</th>\n",
       "      <td>12345678912346</td>\n",
       "      <td>98765432198766</td>\n",
       "      <td>Organic_Butternut_Squash Organic_Grape_Tomatoes</td>\n",
       "    </tr>\n",
       "    <tr>\n",
       "      <th>4</th>\n",
       "      <td>12345678912347</td>\n",
       "      <td>98765432198767</td>\n",
       "      <td>Vanilla_Unsweetened_Almond_Milk Total_2%_Greek...</td>\n",
       "    </tr>\n",
       "    <tr>\n",
       "      <th>6</th>\n",
       "      <td>12345678912348</td>\n",
       "      <td>98765432198768</td>\n",
       "      <td>Grapefruit_Sparkling_Water Sliced_Sourdough_Bread</td>\n",
       "    </tr>\n",
       "    <tr>\n",
       "      <th>8</th>\n",
       "      <td>12345678912349</td>\n",
       "      <td>98765432198769</td>\n",
       "      <td>Organic_Gluten_Free_Chia_Plus_with_Quinoa_&amp;_Am...</td>\n",
       "    </tr>\n",
       "  </tbody>\n",
       "</table>\n",
       "</div>"
      ],
      "text/plain": [
       "          user_id        order_id  \\\n",
       "0  12345678912345  98765432198765   \n",
       "2  12345678912346  98765432198766   \n",
       "4  12345678912347  98765432198767   \n",
       "6  12345678912348  98765432198768   \n",
       "8  12345678912349  98765432198769   \n",
       "\n",
       "                                            products  \n",
       "0  Clementines Sweet_&_Salty_Nut_Granola_Bars_Peanut  \n",
       "2    Organic_Butternut_Squash Organic_Grape_Tomatoes  \n",
       "4  Vanilla_Unsweetened_Almond_Milk Total_2%_Greek...  \n",
       "6  Grapefruit_Sparkling_Water Sliced_Sourdough_Bread  \n",
       "8  Organic_Gluten_Free_Chia_Plus_with_Quinoa_&_Am...  "
      ]
     },
     "execution_count": 19,
     "metadata": {},
     "output_type": "execute_result"
    }
   ],
   "source": [
    "current_test_order_products.head()"
   ]
  },
  {
   "cell_type": "code",
   "execution_count": 20,
   "id": "39c68e64-85cb-48ee-adb6-e663ce9ab097",
   "metadata": {},
   "outputs": [],
   "source": [
    "current_test_order_products['product_list'] = current_order_products_list"
   ]
  },
  {
   "cell_type": "code",
   "execution_count": 24,
   "id": "1c57cfc4-f756-4a45-a552-40424c01858d",
   "metadata": {},
   "outputs": [],
   "source": [
    "userid_cluster = pd.DataFrame(current_test_order_products['user_id'])"
   ]
  },
  {
   "cell_type": "code",
   "execution_count": 30,
   "id": "38bae7b6-13d7-4d30-8ff3-d7ce8b347756",
   "metadata": {},
   "outputs": [],
   "source": [
    "cluster_list = ['Cluster_6','Cluster_8','Cluster_5','Cluster_8','Cluster_1','Cluster_6','Cluster_8','Cluster_11','Cluster_10',\n",
    "                'Cluster_12','Cluster_6','Cluster_12','Cluster_5','Cluster_4','Cluster_6','Cluster_1','Cluster_6','Cluster_8',\n",
    "                'Cluster_1','Cluster_5','Cluster_13','Cluster_6','Cluster_4','Cluster_6','Cluster_14']"
   ]
  },
  {
   "cell_type": "code",
   "execution_count": 31,
   "id": "f7f658c7-12f1-4921-bbb7-f3dee1e0577f",
   "metadata": {},
   "outputs": [],
   "source": [
    "current_test_order_products['Clusters'] = cluster_list"
   ]
  },
  {
   "cell_type": "code",
   "execution_count": 32,
   "id": "606d2a53-1c61-4cf1-bb9c-705a7036714d",
   "metadata": {},
   "outputs": [
    {
     "data": {
      "text/html": [
       "<div>\n",
       "<style scoped>\n",
       "    .dataframe tbody tr th:only-of-type {\n",
       "        vertical-align: middle;\n",
       "    }\n",
       "\n",
       "    .dataframe tbody tr th {\n",
       "        vertical-align: top;\n",
       "    }\n",
       "\n",
       "    .dataframe thead th {\n",
       "        text-align: right;\n",
       "    }\n",
       "</style>\n",
       "<table border=\"1\" class=\"dataframe\">\n",
       "  <thead>\n",
       "    <tr style=\"text-align: right;\">\n",
       "      <th></th>\n",
       "      <th>user_id</th>\n",
       "      <th>order_id</th>\n",
       "      <th>products</th>\n",
       "      <th>product_list</th>\n",
       "      <th>Clusters</th>\n",
       "    </tr>\n",
       "  </thead>\n",
       "  <tbody>\n",
       "    <tr>\n",
       "      <th>0</th>\n",
       "      <td>12345678912345</td>\n",
       "      <td>98765432198765</td>\n",
       "      <td>Clementines Sweet_&amp;_Salty_Nut_Granola_Bars_Peanut</td>\n",
       "      <td>[Clementines, Sweet_&amp;_Salty_Nut_Granola_Bars_P...</td>\n",
       "      <td>Cluster_6</td>\n",
       "    </tr>\n",
       "    <tr>\n",
       "      <th>2</th>\n",
       "      <td>12345678912346</td>\n",
       "      <td>98765432198766</td>\n",
       "      <td>Organic_Butternut_Squash Organic_Grape_Tomatoes</td>\n",
       "      <td>[Organic_Butternut_Squash, Organic_Grape_Tomat...</td>\n",
       "      <td>Cluster_8</td>\n",
       "    </tr>\n",
       "    <tr>\n",
       "      <th>4</th>\n",
       "      <td>12345678912347</td>\n",
       "      <td>98765432198767</td>\n",
       "      <td>Vanilla_Unsweetened_Almond_Milk Total_2%_Greek...</td>\n",
       "      <td>[Vanilla_Unsweetened_Almond_Milk, Total_2%_Gre...</td>\n",
       "      <td>Cluster_5</td>\n",
       "    </tr>\n",
       "    <tr>\n",
       "      <th>6</th>\n",
       "      <td>12345678912348</td>\n",
       "      <td>98765432198768</td>\n",
       "      <td>Grapefruit_Sparkling_Water Sliced_Sourdough_Bread</td>\n",
       "      <td>[Grapefruit_Sparkling_Water, Sliced_Sourdough_...</td>\n",
       "      <td>Cluster_8</td>\n",
       "    </tr>\n",
       "    <tr>\n",
       "      <th>8</th>\n",
       "      <td>12345678912349</td>\n",
       "      <td>98765432198769</td>\n",
       "      <td>Organic_Gluten_Free_Chia_Plus_with_Quinoa_&amp;_Am...</td>\n",
       "      <td>[Organic_Gluten_Free_Chia_Plus_with_Quinoa_&amp;_A...</td>\n",
       "      <td>Cluster_1</td>\n",
       "    </tr>\n",
       "    <tr>\n",
       "      <th>10</th>\n",
       "      <td>12345678912350</td>\n",
       "      <td>98765432198770</td>\n",
       "      <td>Organic_Lemon Organic_Gunpowder_Green_Tea</td>\n",
       "      <td>[Organic_Lemon, Organic_Gunpowder_Green_Tea]</td>\n",
       "      <td>Cluster_6</td>\n",
       "    </tr>\n",
       "    <tr>\n",
       "      <th>12</th>\n",
       "      <td>12345678912351</td>\n",
       "      <td>98765432198771</td>\n",
       "      <td>Organic_Vanilla_Chip_Chewy_Granola</td>\n",
       "      <td>[Organic_Vanilla_Chip_Chewy_Granola]</td>\n",
       "      <td>Cluster_8</td>\n",
       "    </tr>\n",
       "    <tr>\n",
       "      <th>13</th>\n",
       "      <td>12345678912352</td>\n",
       "      <td>98765432198772</td>\n",
       "      <td>Organic_Lime</td>\n",
       "      <td>[Organic_Lime]</td>\n",
       "      <td>Cluster_11</td>\n",
       "    </tr>\n",
       "    <tr>\n",
       "      <th>14</th>\n",
       "      <td>12345678912353</td>\n",
       "      <td>98765432198773</td>\n",
       "      <td>Organic_Poppy_Seed</td>\n",
       "      <td>[Organic_Poppy_Seed]</td>\n",
       "      <td>Cluster_10</td>\n",
       "    </tr>\n",
       "    <tr>\n",
       "      <th>15</th>\n",
       "      <td>12345678912354</td>\n",
       "      <td>98765432198774</td>\n",
       "      <td>Original_Fruit_Candy</td>\n",
       "      <td>[Original_Fruit_Candy]</td>\n",
       "      <td>Cluster_12</td>\n",
       "    </tr>\n",
       "    <tr>\n",
       "      <th>16</th>\n",
       "      <td>12345678912355</td>\n",
       "      <td>98765432198775</td>\n",
       "      <td>Mango_Flavor_Probiotic_Juice_Drink Uncured_Hic...</td>\n",
       "      <td>[Mango_Flavor_Probiotic_Juice_Drink, Uncured_H...</td>\n",
       "      <td>Cluster_6</td>\n",
       "    </tr>\n",
       "    <tr>\n",
       "      <th>18</th>\n",
       "      <td>12345678912356</td>\n",
       "      <td>98765432198776</td>\n",
       "      <td>French_Lavender_All-Purpose_Natural_Surface_Cl...</td>\n",
       "      <td>[French_Lavender_All-Purpose_Natural_Surface_C...</td>\n",
       "      <td>Cluster_12</td>\n",
       "    </tr>\n",
       "    <tr>\n",
       "      <th>19</th>\n",
       "      <td>12345678912357</td>\n",
       "      <td>98765432198777</td>\n",
       "      <td>Carrots</td>\n",
       "      <td>[Carrots]</td>\n",
       "      <td>Cluster_5</td>\n",
       "    </tr>\n",
       "    <tr>\n",
       "      <th>20</th>\n",
       "      <td>12345678912358</td>\n",
       "      <td>98765432198778</td>\n",
       "      <td>Carrots Orange_Bell_Pepper</td>\n",
       "      <td>[Carrots, Orange_Bell_Pepper]</td>\n",
       "      <td>Cluster_4</td>\n",
       "    </tr>\n",
       "    <tr>\n",
       "      <th>22</th>\n",
       "      <td>12345678912359</td>\n",
       "      <td>98765432198779</td>\n",
       "      <td>Goo_Berry_Pie_Probugs_Kefir</td>\n",
       "      <td>[Goo_Berry_Pie_Probugs_Kefir]</td>\n",
       "      <td>Cluster_6</td>\n",
       "    </tr>\n",
       "    <tr>\n",
       "      <th>23</th>\n",
       "      <td>12345678912360</td>\n",
       "      <td>98765432198780</td>\n",
       "      <td>Pasture_Raised_Eggs</td>\n",
       "      <td>[Pasture_Raised_Eggs]</td>\n",
       "      <td>Cluster_1</td>\n",
       "    </tr>\n",
       "    <tr>\n",
       "      <th>24</th>\n",
       "      <td>12345678912361</td>\n",
       "      <td>98765432198781</td>\n",
       "      <td>Cavatappi_No._87_Macaroni</td>\n",
       "      <td>[Cavatappi_No._87_Macaroni]</td>\n",
       "      <td>Cluster_6</td>\n",
       "    </tr>\n",
       "    <tr>\n",
       "      <th>25</th>\n",
       "      <td>12345678912362</td>\n",
       "      <td>98765432198782</td>\n",
       "      <td>Banana_Nut_Bread_Energy_Bar ALMONDBREEZE_UNSWE...</td>\n",
       "      <td>[Banana_Nut_Bread_Energy_Bar, ALMONDBREEZE_UNS...</td>\n",
       "      <td>Cluster_8</td>\n",
       "    </tr>\n",
       "    <tr>\n",
       "      <th>27</th>\n",
       "      <td>12345678912363</td>\n",
       "      <td>98765432198783</td>\n",
       "      <td>100%_Whole_Wheat_Bread 100%_Lactose_Free_Reduc...</td>\n",
       "      <td>[100%_Whole_Wheat_Bread, 100%_Lactose_Free_Red...</td>\n",
       "      <td>Cluster_1</td>\n",
       "    </tr>\n",
       "    <tr>\n",
       "      <th>29</th>\n",
       "      <td>12345678912364</td>\n",
       "      <td>98765432198784</td>\n",
       "      <td>Orange_Soda Slim_Can_Lime_Sparkling_Natural_Mi...</td>\n",
       "      <td>[Orange_Soda, Slim_Can_Lime_Sparkling_Natural_...</td>\n",
       "      <td>Cluster_5</td>\n",
       "    </tr>\n",
       "    <tr>\n",
       "      <th>31</th>\n",
       "      <td>12345678912365</td>\n",
       "      <td>98765432198785</td>\n",
       "      <td>Organic_Avocado</td>\n",
       "      <td>[Organic_Avocado]</td>\n",
       "      <td>Cluster_13</td>\n",
       "    </tr>\n",
       "    <tr>\n",
       "      <th>32</th>\n",
       "      <td>12345678912366</td>\n",
       "      <td>98765432198786</td>\n",
       "      <td>Cinnamon_Sugar_Pita_Chips</td>\n",
       "      <td>[Cinnamon_Sugar_Pita_Chips]</td>\n",
       "      <td>Cluster_6</td>\n",
       "    </tr>\n",
       "    <tr>\n",
       "      <th>33</th>\n",
       "      <td>12345678912367</td>\n",
       "      <td>98765432198787</td>\n",
       "      <td>Plain_Nonfat_Yogurt</td>\n",
       "      <td>[Plain_Nonfat_Yogurt]</td>\n",
       "      <td>Cluster_4</td>\n",
       "    </tr>\n",
       "    <tr>\n",
       "      <th>34</th>\n",
       "      <td>12345678912368</td>\n",
       "      <td>98765432198788</td>\n",
       "      <td>Organic_Celery_Hearts</td>\n",
       "      <td>[Organic_Celery_Hearts]</td>\n",
       "      <td>Cluster_6</td>\n",
       "    </tr>\n",
       "    <tr>\n",
       "      <th>35</th>\n",
       "      <td>12345678912369</td>\n",
       "      <td>98765432198789</td>\n",
       "      <td>Organic_Unsweetened_Almond_Milk Organic_Large_...</td>\n",
       "      <td>[Organic_Unsweetened_Almond_Milk, Organic_Larg...</td>\n",
       "      <td>Cluster_14</td>\n",
       "    </tr>\n",
       "  </tbody>\n",
       "</table>\n",
       "</div>"
      ],
      "text/plain": [
       "           user_id        order_id  \\\n",
       "0   12345678912345  98765432198765   \n",
       "2   12345678912346  98765432198766   \n",
       "4   12345678912347  98765432198767   \n",
       "6   12345678912348  98765432198768   \n",
       "8   12345678912349  98765432198769   \n",
       "10  12345678912350  98765432198770   \n",
       "12  12345678912351  98765432198771   \n",
       "13  12345678912352  98765432198772   \n",
       "14  12345678912353  98765432198773   \n",
       "15  12345678912354  98765432198774   \n",
       "16  12345678912355  98765432198775   \n",
       "18  12345678912356  98765432198776   \n",
       "19  12345678912357  98765432198777   \n",
       "20  12345678912358  98765432198778   \n",
       "22  12345678912359  98765432198779   \n",
       "23  12345678912360  98765432198780   \n",
       "24  12345678912361  98765432198781   \n",
       "25  12345678912362  98765432198782   \n",
       "27  12345678912363  98765432198783   \n",
       "29  12345678912364  98765432198784   \n",
       "31  12345678912365  98765432198785   \n",
       "32  12345678912366  98765432198786   \n",
       "33  12345678912367  98765432198787   \n",
       "34  12345678912368  98765432198788   \n",
       "35  12345678912369  98765432198789   \n",
       "\n",
       "                                             products  \\\n",
       "0   Clementines Sweet_&_Salty_Nut_Granola_Bars_Peanut   \n",
       "2     Organic_Butternut_Squash Organic_Grape_Tomatoes   \n",
       "4   Vanilla_Unsweetened_Almond_Milk Total_2%_Greek...   \n",
       "6   Grapefruit_Sparkling_Water Sliced_Sourdough_Bread   \n",
       "8   Organic_Gluten_Free_Chia_Plus_with_Quinoa_&_Am...   \n",
       "10          Organic_Lemon Organic_Gunpowder_Green_Tea   \n",
       "12                 Organic_Vanilla_Chip_Chewy_Granola   \n",
       "13                                       Organic_Lime   \n",
       "14                                 Organic_Poppy_Seed   \n",
       "15                               Original_Fruit_Candy   \n",
       "16  Mango_Flavor_Probiotic_Juice_Drink Uncured_Hic...   \n",
       "18  French_Lavender_All-Purpose_Natural_Surface_Cl...   \n",
       "19                                            Carrots   \n",
       "20                         Carrots Orange_Bell_Pepper   \n",
       "22                        Goo_Berry_Pie_Probugs_Kefir   \n",
       "23                                Pasture_Raised_Eggs   \n",
       "24                          Cavatappi_No._87_Macaroni   \n",
       "25  Banana_Nut_Bread_Energy_Bar ALMONDBREEZE_UNSWE...   \n",
       "27  100%_Whole_Wheat_Bread 100%_Lactose_Free_Reduc...   \n",
       "29  Orange_Soda Slim_Can_Lime_Sparkling_Natural_Mi...   \n",
       "31                                    Organic_Avocado   \n",
       "32                          Cinnamon_Sugar_Pita_Chips   \n",
       "33                                Plain_Nonfat_Yogurt   \n",
       "34                              Organic_Celery_Hearts   \n",
       "35  Organic_Unsweetened_Almond_Milk Organic_Large_...   \n",
       "\n",
       "                                         product_list    Clusters  \n",
       "0   [Clementines, Sweet_&_Salty_Nut_Granola_Bars_P...   Cluster_6  \n",
       "2   [Organic_Butternut_Squash, Organic_Grape_Tomat...   Cluster_8  \n",
       "4   [Vanilla_Unsweetened_Almond_Milk, Total_2%_Gre...   Cluster_5  \n",
       "6   [Grapefruit_Sparkling_Water, Sliced_Sourdough_...   Cluster_8  \n",
       "8   [Organic_Gluten_Free_Chia_Plus_with_Quinoa_&_A...   Cluster_1  \n",
       "10       [Organic_Lemon, Organic_Gunpowder_Green_Tea]   Cluster_6  \n",
       "12               [Organic_Vanilla_Chip_Chewy_Granola]   Cluster_8  \n",
       "13                                     [Organic_Lime]  Cluster_11  \n",
       "14                               [Organic_Poppy_Seed]  Cluster_10  \n",
       "15                             [Original_Fruit_Candy]  Cluster_12  \n",
       "16  [Mango_Flavor_Probiotic_Juice_Drink, Uncured_H...   Cluster_6  \n",
       "18  [French_Lavender_All-Purpose_Natural_Surface_C...  Cluster_12  \n",
       "19                                          [Carrots]   Cluster_5  \n",
       "20                      [Carrots, Orange_Bell_Pepper]   Cluster_4  \n",
       "22                      [Goo_Berry_Pie_Probugs_Kefir]   Cluster_6  \n",
       "23                              [Pasture_Raised_Eggs]   Cluster_1  \n",
       "24                        [Cavatappi_No._87_Macaroni]   Cluster_6  \n",
       "25  [Banana_Nut_Bread_Energy_Bar, ALMONDBREEZE_UNS...   Cluster_8  \n",
       "27  [100%_Whole_Wheat_Bread, 100%_Lactose_Free_Red...   Cluster_1  \n",
       "29  [Orange_Soda, Slim_Can_Lime_Sparkling_Natural_...   Cluster_5  \n",
       "31                                  [Organic_Avocado]  Cluster_13  \n",
       "32                        [Cinnamon_Sugar_Pita_Chips]   Cluster_6  \n",
       "33                              [Plain_Nonfat_Yogurt]   Cluster_4  \n",
       "34                            [Organic_Celery_Hearts]   Cluster_6  \n",
       "35  [Organic_Unsweetened_Almond_Milk, Organic_Larg...  Cluster_14  "
      ]
     },
     "execution_count": 32,
     "metadata": {},
     "output_type": "execute_result"
    }
   ],
   "source": [
    "current_test_order_products"
   ]
  },
  {
   "cell_type": "code",
   "execution_count": 35,
   "id": "8a67bc55-5fa1-4ba2-a15a-b27b06c69bcc",
   "metadata": {},
   "outputs": [],
   "source": [
    "current_order_dict= {} # products, product_list \n",
    "for index, content, in current_test_order_products.iterrows():\n",
    "    user_id = content[0]\n",
    "    order_id = content[1]\n",
    "    product_list = content[3]\n",
    "    cluster = content[4]\n",
    "    if len(product_list) > 1:\n",
    "        product_one = product_list[0]\n",
    "        product_two = product_list[1]\n",
    "        current_order_dict[user_id] = {'order_id': order_id, 'product_one': product_one, 'product_two': product_two, 'Cluster': cluster}\n",
    "    else:\n",
    "        product_one = product_list[0]\n",
    "        current_order_dict[user_id] = {'order_id': order_id, 'product_one': product_one, 'Cluster': cluster}\n",
    "    "
   ]
  },
  {
   "cell_type": "code",
   "execution_count": 36,
   "id": "999f5230-69a6-4079-8498-8036c4bc63c8",
   "metadata": {},
   "outputs": [],
   "source": [
    "with open('current_order_test_data.json', 'w') as file:\n",
    "    json.dump(current_order_dict, file)"
   ]
  }
 ],
 "metadata": {
  "kernelspec": {
   "display_name": "Python 3 (ipykernel)",
   "language": "python",
   "name": "python3"
  },
  "language_info": {
   "codemirror_mode": {
    "name": "ipython",
    "version": 3
   },
   "file_extension": ".py",
   "mimetype": "text/x-python",
   "name": "python",
   "nbconvert_exporter": "python",
   "pygments_lexer": "ipython3",
   "version": "3.9.12"
  }
 },
 "nbformat": 4,
 "nbformat_minor": 5
}
