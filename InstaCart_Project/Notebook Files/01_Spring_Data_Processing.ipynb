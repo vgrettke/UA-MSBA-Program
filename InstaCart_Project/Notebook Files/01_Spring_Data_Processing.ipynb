{
 "cells": [
  {
   "cell_type": "markdown",
   "id": "1556e7be-dd6f-461e-98d0-fbd5377f3432",
   "metadata": {},
   "source": [
    "# NO NEED TO RUN THIS NOTEBOOK"
   ]
  },
  {
   "cell_type": "markdown",
   "id": "ea7935cb-9851-45e8-ab86-f0d8466bd481",
   "metadata": {},
   "source": [
    "# SEE FINAL DATA PROCESSING CSV's `All_Orders_TRAIN.csv` and `All_Orders_TEST.csv`"
   ]
  },
  {
   "cell_type": "code",
   "execution_count": null,
   "id": "87b02c30-7f45-44a5-9087-1693771467d3",
   "metadata": {},
   "outputs": [],
   "source": [
    "import collections\n",
    "import pathlib\n",
    "import random\n",
    "import sqlite3\n",
    "\n",
    "import matplotlib.pyplot as plt\n",
    "import numpy as np\n",
    "import pandas as pd\n",
    "pd.set_option('display.max_columns', None)\n",
    "import seaborn as sns\n",
    "sns.set_style('whitegrid')\n",
    "\n",
    "from sklearn.linear_model import LinearRegression\n",
    "from sklearn.linear_model import LogisticRegression\n",
    "from sklearn.tree import DecisionTreeClassifier\n",
    "from sklearn.model_selection import train_test_split\n",
    "from sklearn.metrics import r2_score, explained_variance_score, confusion_matrix, accuracy_score, classification_report, log_loss\n",
    "from math import sqrt\n",
    "from sklearn.cluster import KMeans, k_means\n",
    "from sklearn.metrics import silhouette_score\n",
    "\n",
    "%matplotlib inline\n",
    "# To change scientific numbers to float\n",
    "np.set_printoptions(formatter={'float_kind':'{:f}'.format})\n",
    "\n",
    "db_path = pathlib.Path('instacart_database.db')"
   ]
  },
  {
   "cell_type": "markdown",
   "id": "871acc35-ee41-4b73-8a16-974fe7301216",
   "metadata": {},
   "source": [
    "# Create csv for each table"
   ]
  },
  {
   "cell_type": "code",
   "execution_count": null,
   "id": "73f8908c-6e8b-4e4f-94fb-ace7435375c5",
   "metadata": {},
   "outputs": [],
   "source": [
    "table_dict = {1 : 'aisles', 2: 'departments', 3: 'order_details', 4: 'orders', 6: 'products'}\n",
    "\n",
    "for table in table_dict:\n",
    "    table_name = table\n",
    "    statement = f'select * from {table_dict[table]}'\n",
    "    conn = sqlite3.Connection(db_path)\n",
    "    table_dict[table] = pd.read_sql(statement, conn)\n",
    "    \n",
    "    print(statement)"
   ]
  },
  {
   "cell_type": "code",
   "execution_count": null,
   "id": "132d2781-3584-4c65-8a3b-4e05f0bc91e1",
   "metadata": {},
   "outputs": [],
   "source": [
    "aisles_df = table_dict[1]\n",
    "departments_df = table_dict[2]\n",
    "order_details_df = table_dict[3]\n",
    "orders_df = table_dict[4]\n",
    "products_df = table_dict[6]"
   ]
  },
  {
   "cell_type": "code",
   "execution_count": null,
   "id": "52a5fdea-9b87-4107-a7dd-3c5ecf004a4e",
   "metadata": {},
   "outputs": [],
   "source": [
    "aisles_df.to_csv('..\\\\capstone_project\\\\aisles.csv', index = False)\n",
    "departments_df.to_csv('..\\\\capstone_project\\\\departments.csv', index = False)\n",
    "order_details_df.to_csv('..\\\\capstone_project\\\\order_details.csv', index = False)\n",
    "orders_df.to_csv('..\\\\capstone_project\\\\orders.csv', index = False)\n",
    "products_df.to_csv('..\\\\capstone_project\\\\products.csv', index = False)"
   ]
  },
  {
   "cell_type": "markdown",
   "id": "898333e0-9666-4c0b-aaa2-c80d500cbea9",
   "metadata": {},
   "source": [
    "# csv option instead of querying database everytime"
   ]
  },
  {
   "cell_type": "code",
   "execution_count": null,
   "id": "ecc5b037-b565-470d-954f-86564b3a5b35",
   "metadata": {},
   "outputs": [],
   "source": [
    "# aisles_df = pd.read_csv('aisles.csv')\n",
    "# departments_df = pd.read_csv('departments.csv')\n",
    "# order_details_df = pd.read_csv('order_details.csv')\n",
    "# orders_df = pd.read_csv('orders.csv')\n",
    "# products_df = pd.read_csv('products.csv')"
   ]
  },
  {
   "cell_type": "code",
   "execution_count": null,
   "id": "71ddee5e-a210-45e2-a1e1-0bededf23e98",
   "metadata": {},
   "outputs": [],
   "source": [
    "all_orders_sorted.head()"
   ]
  },
  {
   "cell_type": "markdown",
   "id": "a67d0e1d-05d1-41fe-b689-9108f5416eb0",
   "metadata": {},
   "source": [
    "# Join necessary tables"
   ]
  },
  {
   "cell_type": "markdown",
   "id": "25c845a2-b669-46ff-a9cf-1e8bab5c4378",
   "metadata": {},
   "source": [
    "Add product info to `order_details_df`"
   ]
  },
  {
   "cell_type": "code",
   "execution_count": null,
   "id": "8d288f24-983a-48da-bde9-30b866ad40f4",
   "metadata": {},
   "outputs": [],
   "source": [
    "order_details_plus_products = pd.merge(order_details_df, products_df, how = 'left', on = 'product_id')"
   ]
  },
  {
   "cell_type": "markdown",
   "id": "a1d7aa82-80a2-4ec2-ad61-7c986ee199c2",
   "metadata": {},
   "source": [
    "Join `order_details_plus_products` with `orders`"
   ]
  },
  {
   "cell_type": "code",
   "execution_count": null,
   "id": "467032a2-228c-4bc3-af09-54f621432705",
   "metadata": {},
   "outputs": [],
   "source": [
    "order_details_plus_products_plus_orders = pd.merge(order_details_plus_products, orders_df, how = 'left', on = 'order_id')"
   ]
  },
  {
   "cell_type": "markdown",
   "id": "77a11142-3faa-4220-b6c4-e9f7f661d93c",
   "metadata": {},
   "source": [
    "# Sort and reset index"
   ]
  },
  {
   "cell_type": "markdown",
   "id": "25ea5e3f-bd5f-47da-b201-00ca6e195174",
   "metadata": {},
   "source": [
    "Sort by `user_id` and `order_id` ascending"
   ]
  },
  {
   "cell_type": "code",
   "execution_count": null,
   "id": "9458d594-246b-41b0-9086-898b9df56f71",
   "metadata": {},
   "outputs": [],
   "source": [
    "all_orders_sorted = order_details_plus_products_plus_orders.sort_values(by = ['user_id', 'order_number'])"
   ]
  },
  {
   "cell_type": "markdown",
   "id": "c3f9836e-7bd1-4fb3-9a46-09b30fc8f1ca",
   "metadata": {},
   "source": [
    "Drop `id` column"
   ]
  },
  {
   "cell_type": "code",
   "execution_count": null,
   "id": "adcd5e81-95cf-40c8-8c43-31af3590f8ef",
   "metadata": {},
   "outputs": [],
   "source": [
    "all_orders_sorted_set_index = all_orders_sorted.drop(columns='id')"
   ]
  },
  {
   "cell_type": "markdown",
   "id": "dd241d27-81d7-4e32-8e3c-c5ff00e4be14",
   "metadata": {},
   "source": [
    "Reset the index to 0"
   ]
  },
  {
   "cell_type": "code",
   "execution_count": null,
   "id": "8af53f94-7da3-480f-9966-3328a006ec9d",
   "metadata": {},
   "outputs": [],
   "source": [
    "all_orders_sorted_reset_index = all_orders_sorted_set_index.reset_index()"
   ]
  },
  {
   "cell_type": "markdown",
   "id": "84a1f3df-c338-4fff-a9f9-9b17a1520853",
   "metadata": {},
   "source": [
    "Drop new `index` column"
   ]
  },
  {
   "cell_type": "code",
   "execution_count": null,
   "id": "d050d6b8-fbef-4a04-9fb0-5e588d32450b",
   "metadata": {},
   "outputs": [],
   "source": [
    "all_orders_sorted = all_orders_sorted_reset_index.drop(columns='index')"
   ]
  },
  {
   "cell_type": "markdown",
   "id": "fd563577-d8a4-431f-bca1-e2e446b0f522",
   "metadata": {},
   "source": [
    "# Reduce our data to x number of users "
   ]
  },
  {
   "cell_type": "code",
   "execution_count": null,
   "id": "595e74be-9457-42ea-980f-f9443a231062",
   "metadata": {},
   "outputs": [],
   "source": [
    "all_orders_sorted['user_id'].max()"
   ]
  },
  {
   "cell_type": "code",
   "execution_count": null,
   "id": "a91615ce-d208-4751-be65-6d328d6a7f04",
   "metadata": {},
   "outputs": [],
   "source": [
    "user_list = list(all_orders_sorted['user_id'].unique())"
   ]
  },
  {
   "cell_type": "code",
   "execution_count": null,
   "id": "0d372301-9d0e-4fb2-8740-b8062101e464",
   "metadata": {},
   "outputs": [],
   "source": [
    "len(user_list)"
   ]
  },
  {
   "cell_type": "markdown",
   "id": "d15e2333-c984-49fb-a304-7302940d0453",
   "metadata": {},
   "source": [
    "### We have 206209 Users -- Lets take as many as we can without surpassing 20,000 rows"
   ]
  },
  {
   "cell_type": "code",
   "execution_count": null,
   "id": "749d706b-af91-460f-8742-51a8eaaa4c75",
   "metadata": {},
   "outputs": [],
   "source": [
    "all_orders_sorted.iloc[20000]"
   ]
  },
  {
   "cell_type": "markdown",
   "id": "50a246a5-d63a-4b0f-8e35-2471bb2441bd",
   "metadata": {},
   "source": [
    "### 20000 rows gets us to 152 users -- lets see if we can get to 250 users"
   ]
  },
  {
   "cell_type": "code",
   "execution_count": null,
   "id": "0e3a2dd9-d7b0-498e-9070-a8f137158217",
   "metadata": {},
   "outputs": [],
   "source": [
    "all_orders_sorted.iloc[38000]"
   ]
  },
  {
   "cell_type": "markdown",
   "id": "845527f9-4b1b-401c-b498-705f014bfd0c",
   "metadata": {},
   "source": [
    "### Looks like 38000 rows gets us to 250 users"
   ]
  },
  {
   "cell_type": "code",
   "execution_count": null,
   "id": "196a80f5-1447-434e-a631-5079bacc2b94",
   "metadata": {},
   "outputs": [],
   "source": [
    "# df.loc[df['shield'] > 6]\n",
    "\n",
    "all_orders_reduced = all_orders_sorted.loc[all_orders_sorted['user_id'] < 257]"
   ]
  },
  {
   "cell_type": "code",
   "execution_count": null,
   "id": "d1092a0b-0c3f-4dae-ab8a-354019a07ff3",
   "metadata": {},
   "outputs": [],
   "source": [
    "all_orders_reduced.describe()"
   ]
  },
  {
   "cell_type": "markdown",
   "id": "d21ad63e-1b48-42e5-9254-7a10f4f3ca55",
   "metadata": {},
   "source": [
    "### Create CSV with reduced data"
   ]
  },
  {
   "cell_type": "code",
   "execution_count": null,
   "id": "03f442e9-de12-490c-aaee-e1c2789bb138",
   "metadata": {},
   "outputs": [],
   "source": [
    "all_orders_reduced.to_csv('Data_Reduced.csv')"
   ]
  },
  {
   "cell_type": "markdown",
   "id": "24fb776f-183d-4362-9775-a54e3eb1ccac",
   "metadata": {},
   "source": [
    "# Assign users to test and train values \n",
    "- We want to keep 10% of the users for a test set to mimic the final product (see how our model performs without seeing any previous user data) "
   ]
  },
  {
   "cell_type": "code",
   "execution_count": null,
   "id": "3fb1ded2-2c1f-44b4-bdaf-a3e15b42e922",
   "metadata": {},
   "outputs": [],
   "source": [
    "# Find the bottome 90% of users to create train data\n",
    "256 * .9 # = 230.4 \n"
   ]
  },
  {
   "cell_type": "markdown",
   "id": "3eb9486a-7d38-4d31-8cbd-bd9763387857",
   "metadata": {},
   "source": [
    "### Therefore we are going to section off (`user_id` <= 229) as train & (`user_id` >= 230) as test data"
   ]
  },
  {
   "cell_type": "code",
   "execution_count": null,
   "id": "81f0fd80-715a-4894-8181-a64f8c45306e",
   "metadata": {},
   "outputs": [],
   "source": [
    "# df.loc[df['shield'] > 6]\n",
    "\n",
    "train_data = all_orders_reduced.loc[all_orders_reduced['user_id'] <= 229] # <- shape = (33697, 12)\n",
    "test_data =  all_orders_reduced.loc[all_orders_reduced['user_id'] >= 230] # <- shape = (4484, 12)"
   ]
  },
  {
   "cell_type": "markdown",
   "id": "12fdce1a-6d68-4168-8bd1-aae68ec7e25c",
   "metadata": {},
   "source": [
    "# Export to individual csv's so we don't have to repeat this process"
   ]
  },
  {
   "cell_type": "code",
   "execution_count": null,
   "id": "e5e09b08-a74c-4fde-963e-a35a15698a03",
   "metadata": {},
   "outputs": [],
   "source": [
    "train_data.to_csv('All_Orders_TRAIN.csv')\n",
    "test_data.to_csv('All_Orders_TEST.csv')"
   ]
  }
 ],
 "metadata": {
  "kernelspec": {
   "display_name": "Python 3 (ipykernel)",
   "language": "python",
   "name": "python3"
  },
  "language_info": {
   "codemirror_mode": {
    "name": "ipython",
    "version": 3
   },
   "file_extension": ".py",
   "mimetype": "text/x-python",
   "name": "python",
   "nbconvert_exporter": "python",
   "pygments_lexer": "ipython3",
   "version": "3.9.12"
  }
 },
 "nbformat": 4,
 "nbformat_minor": 5
}
