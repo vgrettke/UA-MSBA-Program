{
 "cells": [
  {
   "cell_type": "code",
   "execution_count": 1,
   "id": "ef3900e4-bf0b-4e12-a69b-b405639d2b3b",
   "metadata": {},
   "outputs": [],
   "source": [
    "import pandas as pd \n",
    "import sqlite3"
   ]
  },
  {
   "cell_type": "code",
   "execution_count": 2,
   "id": "8ba209c7-8800-4818-aac0-93caf7dcd96e",
   "metadata": {},
   "outputs": [],
   "source": [
    "# table_dict = {1 : 'aisles', 2: 'departments', 3: 'order_details', 4: 'orders', 6: 'products'}\n",
    "\n",
    " \n",
    "# for table in table_dict:\n",
    "#     table_name = table\n",
    "#     statement = f'select * from {table_dict[table]}'\n",
    "#     conn = sqlite3.Connection('instacart.db')\n",
    "#     table_dict[table] = pd.read_sql(statement, conn)\n",
    "#     print(statement)\n",
    "\n",
    "# aisles_df = table_dict[1]\n",
    "# departments_df = table_dict[2]\n",
    "# order_details_df = table_dict[3]\n",
    "# orders_df = table_dict[4]\n",
    "# products_df = table_dict[6]\n",
    "\n",
    "\n",
    "# aisles_df.to_csv('..\\\\capstone_project\\\\aisles.csv', index = False)\n",
    "# departments_df.to_csv('..\\\\capstone_project\\\\departments.csv', index = False)\n",
    "\n",
    "# order_details_df.to_csv('..\\\\capstone_project\\\\order_details.csv', index = False)\n",
    "\n",
    "# orders_df.to_csv('..\\\\capstone_project\\\\orders.csv', index = False)\n",
    "\n",
    "# products_df.to_csv('..\\\\capstone_project\\\\products.csv', index = False)"
   ]
  },
  {
   "cell_type": "markdown",
   "id": "bebbcc82-43bc-4d11-b799-eee99495deed",
   "metadata": {},
   "source": [
    "## Create data structure for gensim"
   ]
  },
  {
   "cell_type": "code",
   "execution_count": 3,
   "id": "33f3813e-d772-42f8-9ded-44c545134f6c",
   "metadata": {},
   "outputs": [],
   "source": [
    "order_products = pd.read_csv('order_details.csv')\n",
    "orders_df = pd.read_csv('orders.csv')\n",
    "products_df = pd.read_csv('products.csv')"
   ]
  },
  {
   "cell_type": "code",
   "execution_count": 4,
   "id": "6394470c-51a3-4459-8ec4-13df1377553a",
   "metadata": {},
   "outputs": [
    {
     "data": {
      "text/plain": [
       "'Organic Egg Whites'"
      ]
     },
     "execution_count": 4,
     "metadata": {},
     "output_type": "execute_result"
    }
   ],
   "source": [
    "order_product_name = pd.merge(order_products, products_df, how = 'left', on ='product_id')\n",
    "user_order_product = pd.merge(order_product_name, orders_df, how = 'left', on = 'order_id')\n",
    "user_order_product['product_name'][0]"
   ]
  },
  {
   "cell_type": "markdown",
   "id": "1f5281c1-ac8f-4764-a18b-15103b87e5e4",
   "metadata": {},
   "source": [
    "Replace ' ' with underscores (_)"
   ]
  },
  {
   "cell_type": "code",
   "execution_count": 5,
   "id": "e0558ad1-4a24-4ac3-be7f-04390233899c",
   "metadata": {},
   "outputs": [],
   "source": [
    "products = user_order_product['product_name']\n",
    "product_no_space = []\n",
    "for product in products:\n",
    "    product = product.replace(' ', '_')\n",
    "    product_no_space.append(product)\n",
    "    \n",
    "#Drop original column, and replace it with one with no space \n",
    "user_order_product.drop(['product_name'], axis = 1)\n",
    "user_order_product['product_name'] = product_no_space"
   ]
  },
  {
   "cell_type": "code",
   "execution_count": 6,
   "id": "b90ac31a-7eb2-4ab4-8d56-e54296aeb929",
   "metadata": {},
   "outputs": [
    {
     "data": {
      "text/plain": [
       "(32434489, 13)"
      ]
     },
     "execution_count": 6,
     "metadata": {},
     "output_type": "execute_result"
    }
   ],
   "source": [
    "user_order_product.shape"
   ]
  },
  {
   "cell_type": "markdown",
   "id": "d2986456-39a5-4940-b8d4-a0f86f42c642",
   "metadata": {},
   "source": [
    "Now we want to add cluster data to user_order_product so we can create bigrams for each cluster"
   ]
  },
  {
   "cell_type": "code",
   "execution_count": 7,
   "id": "72663ab7-b7a7-476b-8e81-0daf80db5609",
   "metadata": {},
   "outputs": [],
   "source": [
    "clustered_users = pd.read_csv('clustered_users.csv')"
   ]
  },
  {
   "cell_type": "code",
   "execution_count": 8,
   "id": "3a646c41-cfed-4edf-9204-dd432d7b58a0",
   "metadata": {},
   "outputs": [
    {
     "data": {
      "text/html": [
       "<div>\n",
       "<style scoped>\n",
       "    .dataframe tbody tr th:only-of-type {\n",
       "        vertical-align: middle;\n",
       "    }\n",
       "\n",
       "    .dataframe tbody tr th {\n",
       "        vertical-align: top;\n",
       "    }\n",
       "\n",
       "    .dataframe thead th {\n",
       "        text-align: right;\n",
       "    }\n",
       "</style>\n",
       "<table border=\"1\" class=\"dataframe\">\n",
       "  <thead>\n",
       "    <tr style=\"text-align: right;\">\n",
       "      <th></th>\n",
       "      <th>user_id</th>\n",
       "      <th>Clusters</th>\n",
       "    </tr>\n",
       "  </thead>\n",
       "  <tbody>\n",
       "    <tr>\n",
       "      <th>0</th>\n",
       "      <td>1</td>\n",
       "      <td>6</td>\n",
       "    </tr>\n",
       "    <tr>\n",
       "      <th>1</th>\n",
       "      <td>2</td>\n",
       "      <td>10</td>\n",
       "    </tr>\n",
       "    <tr>\n",
       "      <th>2</th>\n",
       "      <td>3</td>\n",
       "      <td>1</td>\n",
       "    </tr>\n",
       "    <tr>\n",
       "      <th>3</th>\n",
       "      <td>4</td>\n",
       "      <td>6</td>\n",
       "    </tr>\n",
       "    <tr>\n",
       "      <th>4</th>\n",
       "      <td>5</td>\n",
       "      <td>1</td>\n",
       "    </tr>\n",
       "  </tbody>\n",
       "</table>\n",
       "</div>"
      ],
      "text/plain": [
       "   user_id  Clusters\n",
       "0        1         6\n",
       "1        2        10\n",
       "2        3         1\n",
       "3        4         6\n",
       "4        5         1"
      ]
     },
     "execution_count": 8,
     "metadata": {},
     "output_type": "execute_result"
    }
   ],
   "source": [
    "# drop unnecessary columns \n",
    "clustered_users.columns\n",
    "clustered_users = clustered_users.drop(columns = ['Unnamed: 0',  'order_dow', 'order_hour_of_day',\n",
    "       'days_since_prior_order', 'num_orders', 'num_products',\n",
    "       'avg_num_products_per_order', 'X_coor', 'Y_coor'])\n",
    "clustered_users.head()"
   ]
  },
  {
   "cell_type": "code",
   "execution_count": 9,
   "id": "018f2f20-0a5b-40c4-a54f-74a821cf207a",
   "metadata": {},
   "outputs": [
    {
     "data": {
      "text/html": [
       "<div>\n",
       "<style scoped>\n",
       "    .dataframe tbody tr th:only-of-type {\n",
       "        vertical-align: middle;\n",
       "    }\n",
       "\n",
       "    .dataframe tbody tr th {\n",
       "        vertical-align: top;\n",
       "    }\n",
       "\n",
       "    .dataframe thead th {\n",
       "        text-align: right;\n",
       "    }\n",
       "</style>\n",
       "<table border=\"1\" class=\"dataframe\">\n",
       "  <thead>\n",
       "    <tr style=\"text-align: right;\">\n",
       "      <th></th>\n",
       "      <th>id</th>\n",
       "      <th>order_id</th>\n",
       "      <th>product_id</th>\n",
       "      <th>add_to_cart_order</th>\n",
       "      <th>reordered</th>\n",
       "      <th>product_name</th>\n",
       "      <th>aisle_id</th>\n",
       "      <th>department_id</th>\n",
       "      <th>user_id</th>\n",
       "      <th>order_number</th>\n",
       "      <th>order_dow</th>\n",
       "      <th>order_hour_of_day</th>\n",
       "      <th>days_since_prior_order</th>\n",
       "      <th>Clusters</th>\n",
       "    </tr>\n",
       "  </thead>\n",
       "  <tbody>\n",
       "    <tr>\n",
       "      <th>0</th>\n",
       "      <td>14111</td>\n",
       "      <td>1483</td>\n",
       "      <td>32818</td>\n",
       "      <td>1</td>\n",
       "      <td>1</td>\n",
       "      <td>Organic_Pink_Lemonade_Bunny_Fruit_Snacks</td>\n",
       "      <td>50</td>\n",
       "      <td>19</td>\n",
       "      <td>90</td>\n",
       "      <td>31</td>\n",
       "      <td>3</td>\n",
       "      <td>13</td>\n",
       "      <td>5.0</td>\n",
       "      <td>11</td>\n",
       "    </tr>\n",
       "    <tr>\n",
       "      <th>1</th>\n",
       "      <td>14112</td>\n",
       "      <td>1483</td>\n",
       "      <td>27582</td>\n",
       "      <td>2</td>\n",
       "      <td>1</td>\n",
       "      <td>Dark_Chocolate_Minis</td>\n",
       "      <td>45</td>\n",
       "      <td>19</td>\n",
       "      <td>90</td>\n",
       "      <td>31</td>\n",
       "      <td>3</td>\n",
       "      <td>13</td>\n",
       "      <td>5.0</td>\n",
       "      <td>11</td>\n",
       "    </tr>\n",
       "    <tr>\n",
       "      <th>2</th>\n",
       "      <td>14113</td>\n",
       "      <td>1483</td>\n",
       "      <td>12302</td>\n",
       "      <td>3</td>\n",
       "      <td>1</td>\n",
       "      <td>Sparkling_Water,_Natural_Mango_Essenced</td>\n",
       "      <td>115</td>\n",
       "      <td>7</td>\n",
       "      <td>90</td>\n",
       "      <td>31</td>\n",
       "      <td>3</td>\n",
       "      <td>13</td>\n",
       "      <td>5.0</td>\n",
       "      <td>11</td>\n",
       "    </tr>\n",
       "    <tr>\n",
       "      <th>3</th>\n",
       "      <td>14114</td>\n",
       "      <td>1483</td>\n",
       "      <td>1831</td>\n",
       "      <td>4</td>\n",
       "      <td>1</td>\n",
       "      <td>Peach-Pear_Sparkling_Water</td>\n",
       "      <td>115</td>\n",
       "      <td>7</td>\n",
       "      <td>90</td>\n",
       "      <td>31</td>\n",
       "      <td>3</td>\n",
       "      <td>13</td>\n",
       "      <td>5.0</td>\n",
       "      <td>11</td>\n",
       "    </tr>\n",
       "    <tr>\n",
       "      <th>4</th>\n",
       "      <td>14115</td>\n",
       "      <td>1483</td>\n",
       "      <td>19204</td>\n",
       "      <td>5</td>\n",
       "      <td>1</td>\n",
       "      <td>Organic_Heritage_Flakes_Cereal</td>\n",
       "      <td>121</td>\n",
       "      <td>14</td>\n",
       "      <td>90</td>\n",
       "      <td>31</td>\n",
       "      <td>3</td>\n",
       "      <td>13</td>\n",
       "      <td>5.0</td>\n",
       "      <td>11</td>\n",
       "    </tr>\n",
       "  </tbody>\n",
       "</table>\n",
       "</div>"
      ],
      "text/plain": [
       "      id  order_id  product_id  add_to_cart_order  reordered  \\\n",
       "0  14111      1483       32818                  1          1   \n",
       "1  14112      1483       27582                  2          1   \n",
       "2  14113      1483       12302                  3          1   \n",
       "3  14114      1483        1831                  4          1   \n",
       "4  14115      1483       19204                  5          1   \n",
       "\n",
       "                               product_name  aisle_id  department_id  user_id  \\\n",
       "0  Organic_Pink_Lemonade_Bunny_Fruit_Snacks        50             19       90   \n",
       "1                      Dark_Chocolate_Minis        45             19       90   \n",
       "2   Sparkling_Water,_Natural_Mango_Essenced       115              7       90   \n",
       "3                Peach-Pear_Sparkling_Water       115              7       90   \n",
       "4            Organic_Heritage_Flakes_Cereal       121             14       90   \n",
       "\n",
       "   order_number  order_dow  order_hour_of_day  days_since_prior_order  \\\n",
       "0            31          3                 13                     5.0   \n",
       "1            31          3                 13                     5.0   \n",
       "2            31          3                 13                     5.0   \n",
       "3            31          3                 13                     5.0   \n",
       "4            31          3                 13                     5.0   \n",
       "\n",
       "   Clusters  \n",
       "0        11  \n",
       "1        11  \n",
       "2        11  \n",
       "3        11  \n",
       "4        11  "
      ]
     },
     "execution_count": 9,
     "metadata": {},
     "output_type": "execute_result"
    }
   ],
   "source": [
    "user_product_order = pd.merge(user_order_product, clustered_users, how = 'inner', on = 'user_id')\n",
    "user_product_order.head()"
   ]
  },
  {
   "cell_type": "markdown",
   "id": "cee27c0f-0320-4887-bc1e-576a96d39a26",
   "metadata": {},
   "source": [
    "Now we want to combine all user products into a single row"
   ]
  },
  {
   "cell_type": "code",
   "execution_count": 10,
   "id": "239c4a59-c917-4a00-a3cb-c89cbcb4ba01",
   "metadata": {
    "tags": []
   },
   "outputs": [],
   "source": [
    "user_product_dict_int_keys = {}\n",
    "name_list = []\n",
    "\n",
    "# create user:products dictionary\n",
    "for p_name in user_product_order.groupby('user_id')['product_name']:\n",
    "    name_list.append(p_name[1])\n",
    "for user in range(len(name_list)):\n",
    "    user_product_dict_int_keys[user] = list(name_list[user])\n",
    "\n",
    "# create cluster:products dictionary\n",
    "cluster_dict_int_keys = {}\n",
    "cluster_list = []\n",
    "\n",
    "for p_name in user_product_order.groupby('Clusters')['product_name']:\n",
    "    cluster_list.append(p_name[1])\n",
    "\n",
    "for cluster in range(len(cluster_list)):\n",
    "    cluster_dict_int_keys[cluster] = list(cluster_list[cluster])\n"
   ]
  },
  {
   "cell_type": "markdown",
   "id": "09ea0364-1774-4f8b-bded-555f7675dd3b",
   "metadata": {},
   "source": [
    "### Generate Bigrams - all user data, cluster data"
   ]
  },
  {
   "cell_type": "code",
   "execution_count": 11,
   "id": "7d603bc2-bae1-44df-a815-3f9c5a8fc838",
   "metadata": {},
   "outputs": [],
   "source": [
    "import gensim"
   ]
  },
  {
   "cell_type": "code",
   "execution_count": 36,
   "id": "6b2efb60-4f06-4ebe-a6de-2ae9ab493eee",
   "metadata": {},
   "outputs": [],
   "source": [
    "# all user bigrams\n",
    "bigram_phrases = gensim.models.Phrases(user_product_dict_int_keys.values(), min_count =2, threshold = 5, delimiter = ' ')\n",
    "bigram = gensim.models.phrases.Phraser(bigram_phrases)\n",
    "user_bigram = bigram.phrasegrams\n",
    "\n",
    "# cluster bigrams\n",
    "cluster_dict = {}\n",
    "temporary_cluster_dict = {}\n",
    "\n",
    "for key, value in cluster_dict_int_keys.items():\n",
    "    temp_key = 'Cluster_' + str(key)\n",
    "    key1 = 0\n",
    "    temporary_cluster_dict[key1] = cluster_dict_int_keys[key]\n",
    "    if key == 9:\n",
    "        cluster_phrases = gensim.models.Phrases(temporary_cluster_dict.values(), min_count = 2, threshold = 5, delimiter = ' ')\n",
    "        cluster_bigram = gensim.models.phrases.Phraser(cluster_phrases)\n",
    "        cluster_dict[temp_key] = cluster_bigram.phrasegrams\n",
    "    else:\n",
    "        cluster_phrases = gensim.models.Phrases(temporary_cluster_dict.values(), min_count = 3, threshold = 15, delimiter = ' ')\n",
    "        cluster_bigram = gensim.models.phrases.Phraser(cluster_phrases)\n",
    "        cluster_dict[temp_key] = cluster_bigram.phrasegrams\n",
    "    "
   ]
  },
  {
   "cell_type": "markdown",
   "id": "2d9cfcde-e845-4412-a595-e7c1a2084963",
   "metadata": {},
   "source": [
    "### Now organize the bigrams by the first word "
   ]
  },
  {
   "cell_type": "markdown",
   "id": "0e36c74d-7d00-4282-9e80-09e047a7349c",
   "metadata": {},
   "source": [
    "We want a dictionary that has all user bigrams where the first word in the bigram is the key and the value is all of the other products that follow that word as well as their bigram score <br>\n",
    "ex: `{'soda':{water: 10}, {milk: 8}}`"
   ]
  },
  {
   "cell_type": "markdown",
   "id": "7f495cb1-59d2-4a01-9498-7dfaf9fd0a00",
   "metadata": {},
   "source": [
    "We also want a dictionary seperated by clusters and their bigrams <br>\n",
    "ex: `{cluster_1: {'soda':{water: 10}, {milk: 8}}}` <br>\n",
    "`{cluster_2: {'cereal':{milk: 10}, {bananas: 8}}}`"
   ]
  },
  {
   "cell_type": "markdown",
   "id": "3febb93e-08ec-47c4-a6ab-d51ff1a8398b",
   "metadata": {},
   "source": [
    "This is hard because looping through the dictionary without additional logic overwrites key : value pairs so we are stuck with only one key value pair for each key, when we should have a few products in each cluster with multiple values. *see soda with multiple values (water & milk)"
   ]
  },
  {
   "cell_type": "markdown",
   "id": "31d30a06-a23c-4454-9bc1-c8a4613f3231",
   "metadata": {},
   "source": [
    "### Every user order bigram combined into one dictionary "
   ]
  },
  {
   "cell_type": "code",
   "execution_count": 37,
   "id": "78b551b3-987e-4068-b0cd-e41cfd8939dc",
   "metadata": {},
   "outputs": [],
   "source": [
    "# Creates User Bigram Dictionary (Organized by first word)\n",
    "\n",
    "user_bigram_dict = {}\n",
    "items = []\n",
    "\n",
    "for key in user_bigram:\n",
    "    items.append(key.split())\n",
    "\n",
    "bigram_vals = list(user_bigram.values())\n",
    "\n",
    "count = 0\n",
    "for item in items:\n",
    "    if item[0] in user_bigram_dict.keys():\n",
    "        user_bigram_dict[item[0]][item[1]] = int(bigram_vals[count])\n",
    "    else:\n",
    "        user_bigram_dict[item[0]] = {}\n",
    "        user_bigram_dict[item[0]][item[1]] = int(bigram_vals[count])\n",
    "    count+=1"
   ]
  },
  {
   "cell_type": "markdown",
   "id": "54bbb02e-3642-42ed-bbec-c96ca47a7b71",
   "metadata": {},
   "source": [
    "### All user order bigrams organized by cluster "
   ]
  },
  {
   "cell_type": "code",
   "execution_count": 54,
   "id": "c06af476-eedc-40a6-8737-b628fbde574e",
   "metadata": {},
   "outputs": [],
   "source": [
    "final_cluster = {}\n",
    "\n",
    "temp_cluster = {}\n",
    "for cluster, value in cluster_dict.items():\n",
    "    temp_cluster = value\n",
    "    intermediate_cluster = {'': []}\n",
    "    for key, value1 in temp_cluster.items():\n",
    "        key1, key2 = key.split()\n",
    "        pairing = {key2: value1}\n",
    "        if key1 in intermediate_cluster.keys():\n",
    "            key1_list = list(intermediate_cluster[key1].items())\n",
    "            key1_list.append(pairing)\n",
    "            intermediate_cluster[key1] = key1_list\n",
    "        else:  \n",
    "            intermediate_cluster[key1] = pairing\n",
    "    intermediate_cluster.pop('')\n",
    "    final_cluster[cluster] = intermediate_cluster\n",
    "   "
   ]
  },
  {
   "cell_type": "code",
   "execution_count": 55,
   "id": "13c1066f-323b-4a41-9950-a5e77a1ad24a",
   "metadata": {},
   "outputs": [
    {
     "data": {
      "text/plain": [
       "[('Sparkling_Mineral_Water', 28.520833333333332),\n",
       " {'Smartwater': 22.816666666666666}]"
      ]
     },
     "execution_count": 55,
     "metadata": {},
     "output_type": "execute_result"
    }
   ],
   "source": [
    "final_cluster['Cluster_1']['Soda']"
   ]
  },
  {
   "cell_type": "markdown",
   "id": "234cfa8a-3772-4f6e-8e5a-bae105abda1a",
   "metadata": {},
   "source": [
    "### Time to sort the user bigrams by frequency score"
   ]
  },
  {
   "cell_type": "code",
   "execution_count": 56,
   "id": "67fa6bda-e4ee-4891-8330-3bf876623d1e",
   "metadata": {},
   "outputs": [],
   "source": [
    "from operator import itemgetter\n",
    "# create temp dict, to not mess up user_bigram_dict\n",
    "user_temp_dict = user_bigram_dict\n",
    "\n",
    "# this will be the new dictionary of bigrams, the exact same but sorted by frequency score\n",
    "user_bigrams_sorted = {}\n",
    "\n",
    "for key in user_temp_dict:\n",
    "#     print(key)\n",
    "    user_bigrams_sorted[key] = dict(sorted(user_temp_dict[key].items(), key = itemgetter(1), reverse = True)) # <- returns a list so had to parse into a dictionary \n"
   ]
  },
  {
   "cell_type": "markdown",
   "id": "6d19eecc-f1d6-49fd-bb96-55def8923bcc",
   "metadata": {},
   "source": [
    "### Export Cluster dictionaries "
   ]
  },
  {
   "cell_type": "code",
   "execution_count": 59,
   "id": "d9244924-1af4-4674-9ed8-a1f2dca691f0",
   "metadata": {},
   "outputs": [],
   "source": [
    "import json\n",
    "with open('all_bigrams.json', 'w') as file:\n",
    "    json.dump(user_bigrams_sorted, file)"
   ]
  },
  {
   "cell_type": "code",
   "execution_count": 60,
   "id": "42abfe78-5c0d-4147-a7e7-26be092ebbea",
   "metadata": {},
   "outputs": [],
   "source": [
    "with open('all_cluster_bigrams.json', 'w') as file:\n",
    "    json.dump(final_cluster, file)"
   ]
  },
  {
   "cell_type": "code",
   "execution_count": null,
   "id": "9f55bf33-2bb2-41bc-9125-11cf22de6ebc",
   "metadata": {},
   "outputs": [],
   "source": []
  }
 ],
 "metadata": {
  "kernelspec": {
   "display_name": "Python 3 (ipykernel)",
   "language": "python",
   "name": "python3"
  },
  "language_info": {
   "codemirror_mode": {
    "name": "ipython",
    "version": 3
   },
   "file_extension": ".py",
   "mimetype": "text/x-python",
   "name": "python",
   "nbconvert_exporter": "python",
   "pygments_lexer": "ipython3",
   "version": "3.9.12"
  }
 },
 "nbformat": 4,
 "nbformat_minor": 5
}
