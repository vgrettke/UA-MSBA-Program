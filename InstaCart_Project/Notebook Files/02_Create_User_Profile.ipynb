{
 "cells": [
  {
   "cell_type": "markdown",
   "id": "88543eae-c3b0-4cd1-9b47-1d291c7f6b48",
   "metadata": {},
   "source": [
    "# COMPLETE USER PROFILE CAN BE READ IN via CSV <br>\n",
    "# `complete_user_profile.csv`"
   ]
  },
  {
   "cell_type": "markdown",
   "id": "80955e69-8640-4357-847b-7b38ae0c7894",
   "metadata": {},
   "source": [
    "# Creating User Profile"
   ]
  },
  {
   "cell_type": "markdown",
   "id": "8c5511cd-fb60-4ff7-a921-dd4130a22eba",
   "metadata": {},
   "source": [
    "This notebook will look at user habits "
   ]
  },
  {
   "cell_type": "code",
   "execution_count": null,
   "id": "e0f164e7-782e-48a0-af22-41d8c347ec10",
   "metadata": {},
   "outputs": [],
   "source": [
    "import collections\n",
    "import pathlib\n",
    "import random\n",
    "\n",
    "\n",
    "import matplotlib.pyplot as plt\n",
    "import numpy as np\n",
    "import pandas as pd\n",
    "pd.set_option('display.max_columns', None)\n",
    "import seaborn as sns\n",
    "sns.set_style('whitegrid')\n",
    "\n",
    "%matplotlib inline\n",
    "# To change scientific numbers to float\n",
    "np.set_printoptions(formatter={'float_kind':'{:f}'.format})"
   ]
  },
  {
   "cell_type": "markdown",
   "id": "4c072150-014e-4d53-a280-c874d31372bf",
   "metadata": {},
   "source": [
    "### We want to look at user habits \n",
    "* Mean order DOW\n",
    "* Mean order hour of day \n",
    "* Mean days since prior order \n",
    "* Mean number of products in an order\n",
    "* Total number of orders made\n",
    "* Total number of products bought \n",
    "* List of all products ordered"
   ]
  },
  {
   "cell_type": "markdown",
   "id": "7971df03-29e9-4260-b617-65b7cb1b5c1f",
   "metadata": {},
   "source": [
    "### Process test data "
   ]
  },
  {
   "cell_type": "code",
   "execution_count": null,
   "id": "ca93631d-85e2-4cfa-b334-419976b982de",
   "metadata": {},
   "outputs": [],
   "source": [
    "user_data = pd.read_csv('project_order_history_test_data.csv')"
   ]
  },
  {
   "cell_type": "code",
   "execution_count": null,
   "id": "2ee7e704-300b-46b2-865b-5d05e5b6b5d2",
   "metadata": {},
   "outputs": [],
   "source": [
    "# import necesary data and columns\n",
    "# user_data = pd.read_csv('All_Orders_TRAIN.csv', usecols = ['user_id','order_id', 'product_name', 'order_dow', 'order_hour_of_day','days_since_prior_order','reordered'])"
   ]
  },
  {
   "cell_type": "markdown",
   "id": "626f97c2-1089-4368-bfaa-f93dc3f34be9",
   "metadata": {},
   "source": [
    "User Profile --> Average of ----->  `order_dow`, `order_hour_of_day`, `days_since_prior_order`, `reordered`"
   ]
  },
  {
   "cell_type": "code",
   "execution_count": null,
   "id": "27bced60-cdaa-45b6-8fc6-051fa13e6ed0",
   "metadata": {},
   "outputs": [],
   "source": [
    "# get the mean dow, hour of day, days_since_prior\n",
    "# use nanmean to avoid null values in days_since_prior\n",
    "\n",
    "user_mean = user_data.groupby('user_id')['order_dow','order_hour_of_day', 'days_since_prior_order'].agg(np.nanmean)"
   ]
  },
  {
   "cell_type": "code",
   "execution_count": null,
   "id": "57764b96-59ed-4d7f-ae3b-42acef41a700",
   "metadata": {},
   "outputs": [],
   "source": [
    "# Total number of orders for each user \n",
    "total_orders = user_data.groupby('user_id').order_id.nunique() # <- series, will need to be added to larger dataframe "
   ]
  },
  {
   "cell_type": "code",
   "execution_count": null,
   "id": "48d033c2-bf98-4ad3-b79b-e67fda703b22",
   "metadata": {},
   "outputs": [],
   "source": [
    "# Average number of products in each order \n",
    "num_products = user_data.groupby('user_id').product_name.nunique()"
   ]
  },
  {
   "cell_type": "code",
   "execution_count": null,
   "id": "5d0ff749-12d8-4732-a594-6a558788546d",
   "metadata": {},
   "outputs": [],
   "source": [
    "# add average number of products in each order to user_mean df\n",
    "user_mean['num_orders'] = total_orders\n",
    "user_mean['num_products'] = num_products\n",
    "user_mean['avg_num_products_per_order'] = num_products / total_orders"
   ]
  },
  {
   "cell_type": "code",
   "execution_count": null,
   "id": "1104dbe5-e66a-40ee-80db-924cf5050913",
   "metadata": {},
   "outputs": [],
   "source": [
    "# user_mean.head()\n",
    "type(user_data['product_name'])"
   ]
  },
  {
   "cell_type": "code",
   "execution_count": null,
   "id": "c6125c4f-423f-4f3b-a984-514bab5f0a83",
   "metadata": {},
   "outputs": [],
   "source": [
    "# Add every product ever ordered for each user \n",
    "# Combine users products into a list specific to that user   \n",
    "product_list = []\n",
    "for product in user_data.groupby('user_id')['product_name']:\n",
    "    product_list.append(' '.join(product[1]))\n"
   ]
  },
  {
   "cell_type": "code",
   "execution_count": null,
   "id": "0a991d99-1a72-4c77-992c-555906aaaa7e",
   "metadata": {},
   "outputs": [],
   "source": [
    "user_mean['Products'] = product_list"
   ]
  },
  {
   "cell_type": "code",
   "execution_count": null,
   "id": "c5019ae5-a537-4119-a1c3-4dcf1e3a820e",
   "metadata": {},
   "outputs": [],
   "source": [
    "user_mean.head()"
   ]
  },
  {
   "cell_type": "markdown",
   "id": "53d5d2b7-e94f-4dde-ab51-80d29782fa48",
   "metadata": {},
   "source": [
    "# Now we need to turn the product names into numbers"
   ]
  },
  {
   "cell_type": "markdown",
   "id": "d52e47d2-a476-4fe7-bb90-742543105944",
   "metadata": {},
   "source": [
    "Enter Word2Vec <br>\n",
    "<a href = 'https://www.youtube.com/watch?v=hQwFeIupNP0'> Word2Vec Explanattion Video </a> <br> \n",
    "<a href = 'https://youtu.be/Q2NtCcqmIww'> Word2Vec Coding Video </a> <br>\n",
    "<a href = 'https://github.com/codebasics/deep-learning-keras-tf-tutorial/blob/master/42_word2vec_gensim/42_word2vec_gensim.ipynb'> Word2Vec Github Link </a> <br><a href = 'https://radimrehurek.com/gensim/auto_examples/tutorials/run_word2vec.html#sphx-glr-auto-examples-tutorials-run-word2vec-py'> Word2Vec Documentation Link </a>"
   ]
  },
  {
   "cell_type": "code",
   "execution_count": null,
   "id": "38e8c5c6-4ea4-4118-9ce4-0263be0c3844",
   "metadata": {},
   "outputs": [],
   "source": [
    "import gensim"
   ]
  },
  {
   "cell_type": "code",
   "execution_count": null,
   "id": "620cfb32-561b-4148-b8ad-310792fd6a71",
   "metadata": {},
   "outputs": [],
   "source": [
    "# Remove punctuation and prepare for tokenization \n",
    "product_text = user_mean.Products.apply(gensim.utils.simple_preprocess).to_dict()\n",
    "type(product_text)"
   ]
  },
  {
   "cell_type": "code",
   "execution_count": null,
   "id": "45343058-57c3-4bc1-9c9d-75be86918e5b",
   "metadata": {},
   "outputs": [],
   "source": [
    "# get the number of words in each users product list -> will influence our window size on doc2vec\n",
    "len_list = []\n",
    "for key in product_text:\n",
    "    len_list.append(len(product_text[key]))"
   ]
  },
  {
   "cell_type": "code",
   "execution_count": null,
   "id": "34c96709-2db1-4fa6-a1b2-f28c0b9d536a",
   "metadata": {},
   "outputs": [],
   "source": [
    "average_product_df = pd.DataFrame()"
   ]
  },
  {
   "cell_type": "code",
   "execution_count": null,
   "id": "9d0e99c8-fa33-4a74-85f4-3f84eb259244",
   "metadata": {},
   "outputs": [],
   "source": [
    "average_product_df['num_words'] = len_list"
   ]
  },
  {
   "cell_type": "code",
   "execution_count": null,
   "id": "51ceb625-268a-414c-be65-c87bcce47d3d",
   "metadata": {},
   "outputs": [],
   "source": [
    "average_product_df['num_words'].describe() # <- lets use a window size of 660 bc it covers 75% of the data "
   ]
  },
  {
   "cell_type": "markdown",
   "id": "3f6a2824-4cdf-481b-a0ca-de38e445f91d",
   "metadata": {},
   "source": [
    "### Might need to look at phrases instead of individual words (bigrams or trigrams)\n",
    "<a href = 'https://www.markhneedham.com/blog/2015/02/12/pythongensim-creating-bigrams-over-how-i-met-your-mother-transcripts/'> NLP Phrases Tutorial </a> <br>\n"
   ]
  },
  {
   "cell_type": "code",
   "execution_count": null,
   "id": "f9e38627-7004-48ae-adf0-09ed42ef5537",
   "metadata": {},
   "outputs": [],
   "source": [
    "from gensim.models import Phrases\n",
    "from gensim.models import Word2Vec\n",
    "import nltk \n",
    "import string"
   ]
  },
  {
   "cell_type": "markdown",
   "id": "7c41cfed-dd3a-4e38-af9f-9594801fc1d4",
   "metadata": {},
   "source": [
    "## Word 2 Vec Model 1, window=5"
   ]
  },
  {
   "cell_type": "code",
   "execution_count": null,
   "id": "8a48642b-92b5-4adc-baeb-e4eb73b1e519",
   "metadata": {},
   "outputs": [],
   "source": [
    "model = gensim.models.Word2Vec(\n",
    "    window = 5, # number of products to look at before and after target word\n",
    "    min_count =2, # at least two product words need to be in the subject for it to train the model \n",
    "    workers = 4) # number of cores assigned "
   ]
  },
  {
   "cell_type": "markdown",
   "id": "6ee14e20-7dce-43a2-9762-107676f46337",
   "metadata": {},
   "source": [
    "Build Vocabulary of Products "
   ]
  },
  {
   "cell_type": "code",
   "execution_count": null,
   "id": "49cafa1e-b2e2-4521-8d80-abdca39068ca",
   "metadata": {},
   "outputs": [],
   "source": [
    "model.build_vocab(product_text.values()) ## added .values() to product_text"
   ]
  },
  {
   "cell_type": "markdown",
   "id": "35e46d5d-290d-4a59-b8f5-3500d54bf471",
   "metadata": {},
   "source": [
    "Train the Word2Vec Model"
   ]
  },
  {
   "cell_type": "code",
   "execution_count": null,
   "id": "929d45fd-453b-4fd0-9e2b-2e1cda1b8ff6",
   "metadata": {},
   "outputs": [],
   "source": [
    "model.train(product_text.values(), total_examples = model.corpus_count, epochs = model.epochs) ## added .values() again"
   ]
  },
  {
   "cell_type": "code",
   "execution_count": null,
   "id": "dfea9851-2b61-4499-8226-e94472bb90a7",
   "metadata": {},
   "outputs": [],
   "source": [
    "model.save(\"./word2vec_product_names.model\")"
   ]
  },
  {
   "cell_type": "markdown",
   "id": "5003fedb-a1f3-499b-8592-13a24fc867fd",
   "metadata": {},
   "source": [
    "Finding similar words and similarity between words "
   ]
  },
  {
   "cell_type": "code",
   "execution_count": null,
   "id": "c82ccd89-9e26-4ab8-a2c5-d52f2cb51ffb",
   "metadata": {},
   "outputs": [],
   "source": [
    "model.wv.most_similar(\"almond\")"
   ]
  },
  {
   "cell_type": "markdown",
   "id": "bbd0e24d-aab4-4613-8aa4-6fc3dd0e2303",
   "metadata": {},
   "source": [
    "## Doc 2 Vec Model 6 - Vector = 10, Window = max <br>\n",
    "Need to limit the number of vectors so we can reduce the number of features in kmeans"
   ]
  },
  {
   "cell_type": "code",
   "execution_count": null,
   "id": "1ca72a42-35a4-4202-9689-a58dee4dddb4",
   "metadata": {},
   "outputs": [],
   "source": [
    "from gensim.models.doc2vec import Doc2Vec, TaggedDocument\n",
    "from gensim.test.utils import common_texts"
   ]
  },
  {
   "cell_type": "code",
   "execution_count": null,
   "id": "42edbf0e-29f5-461c-80fc-18c2f6bd2dde",
   "metadata": {},
   "outputs": [],
   "source": [
    "product_text_dict = product_text\n",
    "documents = [TaggedDocument(val, [key]) for key, val in product_text_dict.items()]\n",
    "\n",
    "# Need to figure out window size\n",
    "\n",
    "model = Doc2Vec(documents, vector_size=10, window=4735, min_count=20, workers=4)\n",
    "\n",
    "cuser = 199\n",
    "\n",
    "products = product_text_dict[cuser]\n",
    "product_document_vector = model.infer_vector(products)\n",
    "model.dv.most_similar([product_document_vector])"
   ]
  },
  {
   "cell_type": "markdown",
   "id": "47dc26ac-e252-4c30-87c0-d225c59534b7",
   "metadata": {},
   "source": [
    "# Lets go with Doc 2 Vec Model 6 <br> \n",
    "- limited number of vectors without sacrificing accuracy \n",
    "* Next, we add Vectors to dictionary to then add back to `user_mean`"
   ]
  },
  {
   "cell_type": "code",
   "execution_count": null,
   "id": "74dce300-913e-422b-a845-1d72aa00a0f1",
   "metadata": {},
   "outputs": [],
   "source": [
    "model.save(\"./final_doc2vec.model\")"
   ]
  },
  {
   "cell_type": "code",
   "execution_count": null,
   "id": "385835cb-9498-4cfe-9977-7de185a81313",
   "metadata": {},
   "outputs": [],
   "source": [
    "model.infer_vector(products)"
   ]
  },
  {
   "cell_type": "code",
   "execution_count": null,
   "id": "0d53466c-30dc-4c37-beda-05ae32d20983",
   "metadata": {},
   "outputs": [],
   "source": [
    "vector_dict = {}\n",
    "\n",
    "for key in product_text_dict: \n",
    "    product = product_text_dict[key]\n",
    "    product_document_vector = model.infer_vector(products)\n",
    "    vector_dict[key] = product_document_vector\n"
   ]
  },
  {
   "cell_type": "code",
   "execution_count": null,
   "id": "4dbb6afb-9a92-4182-b696-50a35d1339de",
   "metadata": {},
   "outputs": [],
   "source": [
    "# Convert to DataFrame \n",
    "vector_df_index = vector_dict.keys()\n",
    "vector_df = pd.DataFrame.from_dict(vector_dict, orient = 'index')\n",
    "vector_df.head()"
   ]
  },
  {
   "cell_type": "code",
   "execution_count": null,
   "id": "e1f703ce-8637-42a3-83f4-48b2b830dfed",
   "metadata": {},
   "outputs": [],
   "source": [
    "vector_df.reset_index(inplace = True)"
   ]
  },
  {
   "cell_type": "code",
   "execution_count": null,
   "id": "9d4545d0-375d-4692-a2b9-34570a978327",
   "metadata": {},
   "outputs": [],
   "source": [
    "vector_df_1 = vector_df\n",
    "vector_df_1.head()"
   ]
  },
  {
   "cell_type": "code",
   "execution_count": null,
   "id": "68959716-6314-45a0-8f6f-32e85c46731b",
   "metadata": {},
   "outputs": [],
   "source": [
    "# df.rename(columns={\"A\": \"a\", \"B\": \"c\"})\n",
    "user_mean_v = vector_df_1.rename(columns = {'index': 'user_id', \n",
    "                             0: 'vector_1', \n",
    "                             1: 'vector_2',\n",
    "                             2: 'vector_3',\n",
    "                             3: 'vector_4',\n",
    "                             4: 'vector_5',\n",
    "                             5: 'vector_6',\n",
    "                             6: 'vector_7',\n",
    "                             7: 'vector_8',\n",
    "                             8: 'vector_9',\n",
    "                             9: 'vector_10'})\n",
    "user_mean_v.head()"
   ]
  },
  {
   "cell_type": "markdown",
   "id": "e5e1052c-2908-42c2-b170-bc11b2565fdb",
   "metadata": {},
   "source": [
    "### `user_mean_v` is ready, now we need to join `user_mean_v` with `user_mean`"
   ]
  },
  {
   "cell_type": "code",
   "execution_count": null,
   "id": "7d8509c4-5f32-4b67-85c9-31708db83820",
   "metadata": {},
   "outputs": [],
   "source": [
    "user_mean.head()"
   ]
  },
  {
   "cell_type": "code",
   "execution_count": null,
   "id": "e2938e1a-0954-48e6-bfc9-ea265535e79b",
   "metadata": {},
   "outputs": [],
   "source": [
    "user_mean_join = pd.merge(user_mean, user_mean_v, how = 'left', on = 'user_id')"
   ]
  },
  {
   "cell_type": "code",
   "execution_count": null,
   "id": "0509fd66-2381-45ba-82c2-61bd14ed9edc",
   "metadata": {},
   "outputs": [],
   "source": [
    "user_mean_join.drop(columns = 'Products', inplace = True)"
   ]
  },
  {
   "cell_type": "code",
   "execution_count": null,
   "id": "e9723bba-51ca-476b-88be-0c0294a7c606",
   "metadata": {},
   "outputs": [],
   "source": [
    "user_mean_final = user_mean_join.set_index('user_id')"
   ]
  },
  {
   "cell_type": "code",
   "execution_count": null,
   "id": "e61d2194-2abd-4770-89f6-8fd5fb74bae4",
   "metadata": {},
   "outputs": [],
   "source": [
    "user_mean_final.head()"
   ]
  },
  {
   "cell_type": "code",
   "execution_count": null,
   "id": "5b7ac12d-eb79-407c-9d51-b450620ce0a8",
   "metadata": {},
   "outputs": [],
   "source": [
    "user_mean_final.to_csv('./complete_user_profile.csv')"
   ]
  },
  {
   "cell_type": "code",
   "execution_count": null,
   "id": "33fa8057-bb4d-416e-a339-2a18ef4aa4ad",
   "metadata": {},
   "outputs": [],
   "source": []
  }
 ],
 "metadata": {
  "kernelspec": {
   "display_name": "Python 3 (ipykernel)",
   "language": "python",
   "name": "python3"
  },
  "language_info": {
   "codemirror_mode": {
    "name": "ipython",
    "version": 3
   },
   "file_extension": ".py",
   "mimetype": "text/x-python",
   "name": "python",
   "nbconvert_exporter": "python",
   "pygments_lexer": "ipython3",
   "version": "3.9.12"
  }
 },
 "nbformat": 4,
 "nbformat_minor": 5
}
