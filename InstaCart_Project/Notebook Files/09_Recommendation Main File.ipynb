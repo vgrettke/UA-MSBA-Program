{
 "cells": [
  {
   "cell_type": "code",
   "execution_count": 4,
   "id": "60446325-1e37-42c5-8373-caef0eb9230d",
   "metadata": {},
   "outputs": [],
   "source": [
    "import json\n",
    "from Recommendation_Logic_Functions import getItemFromAllUsers, getItemFromCluster, getCurrentItems, getDefaultRecommendation\n",
    "import pprint"
   ]
  },
  {
   "cell_type": "code",
   "execution_count": 2,
   "id": "d4146e13-00f1-418e-8e0f-06e324282250",
   "metadata": {},
   "outputs": [],
   "source": [
    "current_test_data = {}\n",
    "\n",
    "with open('current_order_test_data.json') as fin:\n",
    "    current_test_data = json.load(fin)\n",
    "    \n",
    "user_bigram_dict = {}\n",
    "\n",
    "with open('all_bigrams.json') as fin:\n",
    "    user_bigram_dict = json.load(fin)\n",
    "    \n",
    "cluster_bigram_dict = {}\n",
    "\n",
    "with open('all_cluster_bigrams.json') as fin:\n",
    "    cluster_bigram_dict = json.load(fin)"
   ]
  },
  {
   "cell_type": "markdown",
   "id": "8ca82e2b-77fc-44ba-9629-bfefd36fe964",
   "metadata": {},
   "source": [
    "# Create Main file variables\n",
    "### Use for loop"
   ]
  },
  {
   "cell_type": "code",
   "execution_count": 7,
   "id": "04e26a72-485a-4cf8-95b3-b0b2e9dd6d71",
   "metadata": {},
   "outputs": [
    {
     "name": "stdout",
     "output_type": "stream",
     "text": [
      "User  12345678912345 's Cart  ['Clementines', 'Sweet_&_Salty_Nut_Granola_Bars_Peanut']  Recommendation ------->  Dry_Roasted_Almonds   Source: All Users\n",
      "User  12345678912346 's Cart  ['Organic_Butternut_Squash', 'Organic_Grape_Tomatoes']  Recommendation ------->  Red_Onion   Source: All Users\n",
      "User  12345678912347 's Cart  ['Vanilla_Unsweetened_Almond_Milk', 'Total_2%_Greek_Strained_Yogurt_with_Cherry_5.3_oz']  Recommendation ------->  Blackberry_Yogurt   Source: All Users\n",
      "User  12345678912348 's Cart  ['Grapefruit_Sparkling_Water', 'Sliced_Sourdough_Bread']  Recommendation ------->  1500_Pale_Ale   Source: All Users\n",
      "User  12345678912349 's Cart  ['Organic_Gluten_Free_Chia_Plus_with_Quinoa_&_Amaranth_Waffles', 'Tomato_Goat_Cheese_&_Herbs_Pizza']  Recommendation ------->  Sweet_&_Salty_Nut_Peanut_Granola_Bars   Source: Default\n",
      "User  12345678912350 's Cart  ['Organic_Lemon', 'Organic_Gunpowder_Green_Tea']  Recommendation ------->  Vanilla_Almond_Breeze_Almond_Milk   Source: All Users\n",
      "User  12345678912351 's Cart  ['Organic_Vanilla_Chip_Chewy_Granola']  Recommendation ------->  Chicken_Fried_Chicken_Meal   Source: Default\n",
      "User  12345678912352 's Cart  ['Organic_Lime']  Recommendation ------->  Annie_Peely_Fruit_4.5_Z   Source: Default\n",
      "User  12345678912353 's Cart  ['Organic_Poppy_Seed']  Recommendation ------->  Organic_Large_Extra_Fancy_Fuji_Apple   Source: Default\n",
      "User  12345678912354 's Cart  ['Original_Fruit_Candy']  Recommendation ------->  Carrots,_Bag   Source: Default\n",
      "User  12345678912355 's Cart  ['Mango_Flavor_Probiotic_Juice_Drink', 'Uncured_Hickory_Smoked_Sunday_Bacon']  Recommendation ------->  Organic_Milk   Source: All Users\n",
      "User  12345678912356 's Cart  ['French_Lavender_All-Purpose_Natural_Surface_Cleaner']  Recommendation ------->  Grape_Unsweetened_Soft_Drink_Mix   Source: Default\n",
      "User  12345678912357 's Cart  ['Carrots']  Recommendation ------->  Broccoli_Crown   Source: All Users\n",
      "User  12345678912358 's Cart  ['Carrots', 'Orange_Bell_Pepper']  Recommendation ------->  Yellow_Bell_Pepper   Source: All Users\n",
      "User  12345678912359 's Cart  ['Goo_Berry_Pie_Probugs_Kefir']  Recommendation ------->  Organic_String_Cheese   Source: Default\n",
      "User  12345678912360 's Cart  ['Pasture_Raised_Eggs']  Recommendation ------->  Half_&_Half   Source: Default\n",
      "User  12345678912361 's Cart  ['Cavatappi_No._87_Macaroni']  Recommendation ------->  Organic_String_Cheese   Source: Default\n",
      "User  12345678912362 's Cart  ['Banana_Nut_Bread_Energy_Bar', 'ALMONDBREEZE_UNSWEETENED']  Recommendation ------->  Organic_Whole_Milk_Strawberry_Beet_Berry_Yogurt_Pouch   Source: Default\n",
      "User  12345678912363 's Cart  ['100%_Whole_Wheat_Bread', '100%_Lactose_Free_Reduced_Fat_Calcium_Enriched_Milk']  Recommendation ------->  Half_&_Half   Source: Default\n",
      "User  12345678912364 's Cart  ['Orange_Soda', 'Slim_Can_Lime_Sparkling_Natural_Mineral_Water']  Recommendation ------->  Organic_Red_Radish,_Bunch   Source: Default\n",
      "User  12345678912365 's Cart ['Organic_Avocado']  Recommendation ------->  Blackberries   Source: Cluster Assignment\n",
      "User  12345678912366 's Cart  ['Cinnamon_Sugar_Pita_Chips']  Recommendation ------->  Adult_Grain-Free_&_Poultry-Free_Dog_Food   Source: Default\n",
      "User  12345678912367 's Cart  ['Plain_Nonfat_Yogurt']  Recommendation ------->  Organic_Dark_Chocolate_Peanut_Butter_Cups   Source: Default\n",
      "User  12345678912368 's Cart  ['Organic_Celery_Hearts']  Recommendation ------->  Roasted_Red_Pepper_Hummus   Source: Default\n",
      "User  12345678912369 's Cart  ['Organic_Unsweetened_Almond_Milk', 'Organic_Large_Grade_AA_Brown_Eggs']  Recommendation ------->  Organic_Classic_Rich_Crackers   Source: All Users\n"
     ]
    }
   ],
   "source": [
    "for user, value in current_test_data.items():\n",
    "#     print(user,\"____\", value)\n",
    "    user_id = str(user)\n",
    "    order_id = value['order_id']\n",
    "#     print(user_id,\"----\", order_id)\n",
    "    cart_list = getCurrentItems(user_id, order_id, current_test_data)\n",
    "#     print(cart_list)\n",
    "    user_cluster = value['Cluster']\n",
    "#     print(user_cluster)\n",
    "    \n",
    "    rec = getItemFromCluster(cluster_bigram_dict, cart_list, user_cluster)\n",
    "    if rec != 'None':\n",
    "        print(\"User \",user_id, \"'s Cart\", cart_list, \" Recommendation -------> \", rec, \"  Source: Cluster Assignment\")\n",
    "    \n",
    "    if rec == 'None':\n",
    "        rec = getItemFromAllUsers(user_bigram_dict, cart_list)\n",
    "        if rec != 'None':\n",
    "            print(\"User \",user_id, \"'s Cart \", cart_list, \" Recommendation -------> \", rec, \"  Source: All Users\")\n",
    "        \n",
    "    if rec == 'None':\n",
    "        rec = getDefaultRecommendation(cluster_bigram_dict, cart_list, user_cluster)\n",
    "        if rec != 'None':\n",
    "            print(\"User \",user_id, \"'s Cart \", cart_list, \" Recommendation -------> \", rec, \"  Source: Default\")\n",
    "    if rec == 'None':\n",
    "        print('*****************RECOMMENDATION SYSTEM DIDN\\'T WORK********************')"
   ]
  },
  {
   "cell_type": "code",
   "execution_count": null,
   "id": "f0725fee-5bc0-4c06-80dc-44ed13bbc3d0",
   "metadata": {},
   "outputs": [],
   "source": []
  },
  {
   "cell_type": "code",
   "execution_count": null,
   "id": "a31cafe4-300f-4144-87b4-24d58e2b2016",
   "metadata": {},
   "outputs": [],
   "source": []
  }
 ],
 "metadata": {
  "kernelspec": {
   "display_name": "Python 3 (ipykernel)",
   "language": "python",
   "name": "python3"
  },
  "language_info": {
   "codemirror_mode": {
    "name": "ipython",
    "version": 3
   },
   "file_extension": ".py",
   "mimetype": "text/x-python",
   "name": "python",
   "nbconvert_exporter": "python",
   "pygments_lexer": "ipython3",
   "version": "3.9.12"
  }
 },
 "nbformat": 4,
 "nbformat_minor": 5
}
