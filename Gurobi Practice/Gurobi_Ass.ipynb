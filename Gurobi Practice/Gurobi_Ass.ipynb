{
 "cells": [
  {
   "cell_type": "code",
   "execution_count": 1,
   "id": "402f0c57-1d59-445b-b008-46b32d7b61d7",
   "metadata": {},
   "outputs": [],
   "source": [
    "from gurobipy import *\n",
    "import pandas as pd"
   ]
  },
  {
   "cell_type": "markdown",
   "id": "8db6b2f2-4475-4813-895d-095f3ade61ba",
   "metadata": {},
   "source": [
    "# #1 Dog Diets"
   ]
  },
  {
   "cell_type": "code",
   "execution_count": 2,
   "id": "bf76aa94-2faf-4400-983d-404e73bb2b4c",
   "metadata": {},
   "outputs": [],
   "source": [
    "D = {'Uno', 'Dos', 'Tres'}\n",
    "F = {'Beef', 'Dog Food', 'Bread', 'Bones', 'Chicken'}"
   ]
  },
  {
   "cell_type": "markdown",
   "id": "bea6d039-f51e-4d72-bac9-06b3516bd26c",
   "metadata": {},
   "source": [
    "C - cost"
   ]
  },
  {
   "cell_type": "code",
   "execution_count": 3,
   "id": "3e14d328-5335-4323-aeb6-70905286a73a",
   "metadata": {},
   "outputs": [],
   "source": [
    "C = {}\n",
    "for f in F:\n",
    "    C[f] = 0\n",
    "C['Beef'] = 2.5\n",
    "C['Dog Food'] = 1\n",
    "C['Bread'] = .8\n",
    "C['Bones'] = 1.2\n",
    "C['Chicken'] = 1.6"
   ]
  },
  {
   "cell_type": "markdown",
   "id": "d9b500a3-6533-4922-bb1b-a1248db03cb0",
   "metadata": {},
   "source": [
    "M - Minimum Food Consumption"
   ]
  },
  {
   "cell_type": "code",
   "execution_count": 4,
   "id": "c1873808-9e6e-47e7-8a8c-845e280ad28d",
   "metadata": {},
   "outputs": [],
   "source": [
    "M = {}\n",
    "for d in D:\n",
    "    M[d] = {}\n",
    "for m in M:\n",
    "    for f in F:\n",
    "        M[m][f] = 0\n",
    "   "
   ]
  },
  {
   "cell_type": "code",
   "execution_count": 5,
   "id": "cac97cbf-1c9e-44b2-a246-ba9bde28e34a",
   "metadata": {},
   "outputs": [],
   "source": [
    "M['Uno']['Bread'] = 0.5\n",
    "M['Uno']['Bones'] = 1.7\n",
    "M['Uno']['Chicken'] = 1.9\n",
    "\n",
    "M['Dos']['Bread'] = 0.3\n",
    "M['Dos']['Bones'] = .9\n",
    "M['Dos']['Chicken'] = .1\n",
    "M['Dos']['Dog Food'] = 1.5\n",
    "\n",
    "M['Tres']['Bread'] = 0.8\n",
    "M['Tres']['Bones'] = .6\n",
    "M['Tres']['Chicken'] = .2\n",
    "M['Tres']['Dog Food'] = .9\n",
    "M['Tres']['Beef'] = 1.5"
   ]
  },
  {
   "cell_type": "code",
   "execution_count": 6,
   "id": "2edc3b23-cdc3-41ac-b5e1-140d8231b4a9",
   "metadata": {},
   "outputs": [
    {
     "name": "stdout",
     "output_type": "stream",
     "text": [
      "Restricted license - for non-production use only - expires 2023-10-25\n"
     ]
    }
   ],
   "source": [
    "m = Model()\n",
    "X = m.addVars(D, F, vtype=GRB.CONTINUOUS, name='pounds')"
   ]
  },
  {
   "cell_type": "code",
   "execution_count": 7,
   "id": "6524a45c-42c5-4fc6-b721-fc8351a55857",
   "metadata": {},
   "outputs": [],
   "source": [
    "cost = LinExpr()\n",
    "for d in D:\n",
    "    for f in F:\n",
    "        cost.add(C[f] * X[d,f])\n",
    "m.setObjective(cost, GRB.MINIMIZE)"
   ]
  },
  {
   "cell_type": "code",
   "execution_count": 8,
   "id": "d8f9206d-f4a1-4d91-bfc0-33379d0167b6",
   "metadata": {},
   "outputs": [
    {
     "data": {
      "text/plain": [
       "<gurobi.Constr *Awaiting Model Update*>"
      ]
     },
     "execution_count": 8,
     "metadata": {},
     "output_type": "execute_result"
    }
   ],
   "source": [
    "for d in D:\n",
    "    for f in F:\n",
    "        pounds = LinExpr()\n",
    "        pounds.add(X[d,f])\n",
    "        m.addConstr(pounds >= M[d][f])\n",
    "        \n",
    "pounds = LinExpr()\n",
    "pounds.add(X['Dos', 'Chicken'] + X['Dos', 'Bread'])\n",
    "m.addConstr(pounds >= 2.5)\n",
    "\n",
    "pounds = LinExpr()\n",
    "pounds.add(X['Uno', 'Chicken'] + X['Uno', 'Dog Food'] + X['Uno', 'Bones'])\n",
    "m.addConstr(pounds >= 2.71)\n",
    "#m.addConstr(pounds >= 2.5)\n",
    "\n",
    "pounds = LinExpr()\n",
    "pounds.add(X['Dos', 'Beef'] + X['Dos', 'Bread'])\n",
    "m.addConstr(pounds >= 2.61)"
   ]
  },
  {
   "cell_type": "code",
   "execution_count": 9,
   "id": "73148c7f-3b0b-4752-a7f3-7b1b394069f0",
   "metadata": {},
   "outputs": [
    {
     "name": "stdout",
     "output_type": "stream",
     "text": [
      "Gurobi Optimizer version 9.5.1 build v9.5.1rc2 (win64)\n",
      "Thread count: 8 physical cores, 16 logical processors, using up to 16 threads\n",
      "Optimize a model with 18 rows, 15 columns and 22 nonzeros\n",
      "Model fingerprint: 0xb9a77336\n",
      "Coefficient statistics:\n",
      "  Matrix range     [1e+00, 1e+00]\n",
      "  Objective range  [8e-01, 3e+00]\n",
      "  Bounds range     [0e+00, 0e+00]\n",
      "  RHS range        [1e-01, 3e+00]\n",
      "Presolve removed 18 rows and 15 columns\n",
      "Presolve time: 0.00s\n",
      "Presolve: All rows and columns removed\n",
      "Iteration    Objective       Primal Inf.    Dual Inf.      Time\n",
      "       0    1.6638000e+01   0.000000e+00   0.000000e+00      0s\n",
      "\n",
      "Solved in 0 iterations and 0.00 seconds (0.00 work units)\n",
      "Optimal objective  1.663800000e+01\n"
     ]
    }
   ],
   "source": [
    "m.optimize()"
   ]
  },
  {
   "cell_type": "code",
   "execution_count": 10,
   "id": "0d1f398e-fcc2-4203-b527-1533eaaa6569",
   "metadata": {},
   "outputs": [
    {
     "name": "stdout",
     "output_type": "stream",
     "text": [
      "Uno(Chicken): 1.9 pounds\n",
      "Uno(Dog Food): 0.0 pounds\n",
      "Uno(Bread): 0.5 pounds\n",
      "Uno(Beef): 0.0 pounds\n",
      "Uno(Bones): 1.7 pounds\n",
      "Dos(Chicken): 0.1 pounds\n",
      "Dos(Dog Food): 1.5 pounds\n",
      "Dos(Bread): 2.61 pounds\n",
      "Dos(Beef): 0.0 pounds\n",
      "Dos(Bones): 0.9 pounds\n",
      "Tres(Chicken): 0.2 pounds\n",
      "Tres(Dog Food): 0.9 pounds\n",
      "Tres(Bread): 0.8 pounds\n",
      "Tres(Beef): 1.5 pounds\n",
      "Tres(Bones): 0.6 pounds\n"
     ]
    }
   ],
   "source": [
    "for d in D:\n",
    "    for f in F:\n",
    "        print(f'{d}({f}): {X[d,f].X} pounds')"
   ]
  },
  {
   "cell_type": "markdown",
   "id": "f9b616a0-bbe9-4e7e-9e16-0d4eb938989c",
   "metadata": {},
   "source": [
    "With Uno's meat consumption constrained at >=2.71 pounds, the cost is minimized at approximately $16.64"
   ]
  },
  {
   "cell_type": "markdown",
   "id": "f4f0737f-0cc8-4bc4-8c52-cd5f80bf44ab",
   "metadata": {},
   "source": [
    "Changing Uno's meat consumption to >=2.5 pounds does not change the minimized cost."
   ]
  },
  {
   "cell_type": "markdown",
   "id": "2350cc1a-85a6-4b35-aec4-feadfd75993a",
   "metadata": {},
   "source": [
    "# #2 Depots and Neighborhoods"
   ]
  },
  {
   "cell_type": "code",
   "execution_count": 11,
   "id": "6de0fa95-8a33-426b-a400-72041bb868cf",
   "metadata": {},
   "outputs": [],
   "source": [
    "minutes = {\n",
    "    1 : {1:15, 2:17, 3:27, 4:5, 5:25, 6:22},\n",
    "    2 : {1:10, 2:12, 3:24 , 4:4 , 5:42 , 6:20 },\n",
    "    3 : {1:5, 2:6, 3:17 , 4:9 , 5:21 , 6:17 },\n",
    "    4 : {1:7, 2:6, 3:8 , 4:15 , 5:13 , 6:10 },\n",
    "    5 : {1:14, 2:12, 3:6 , 4:23 , 5:6 , 6:8 },\n",
    "    6 : {1:18, 2:17, 3:10 , 4:28 , 5:9 , 6:5 },\n",
    "    7 : {1:11, 2:10, 3:5 , 4:21 , 5:10 , 6:9 },\n",
    "    8 : {1:24, 2:22, 3:22 , 4:33 , 5:6 , 6:16 }\n",
    "}\n",
    "\n",
    "populations = {\n",
    "    1: 12,\n",
    "    2: 8,\n",
    "    3: 11,\n",
    "    4: 14,\n",
    "    5: 22,\n",
    "    6: 18,\n",
    "    7: 16,\n",
    "    8: 20\n",
    "}\n"
   ]
  },
  {
   "cell_type": "code",
   "execution_count": 12,
   "id": "ea02989d-9b10-48a2-a486-5d5abcca5382",
   "metadata": {
    "tags": []
   },
   "outputs": [],
   "source": [
    "minutes = pd.DataFrame().from_dict(minutes, orient='index')"
   ]
  },
  {
   "cell_type": "code",
   "execution_count": 13,
   "id": "ba66fce0-a26b-44c1-b269-d2af064f632e",
   "metadata": {},
   "outputs": [],
   "source": [
    "N = set(minutes.index.tolist())\n",
    "D = set(minutes.columns.tolist())"
   ]
  },
  {
   "cell_type": "code",
   "execution_count": 14,
   "id": "f6178787-4d74-458c-a0bb-3b3a1410f952",
   "metadata": {},
   "outputs": [],
   "source": [
    "T = minutes.to_dict(orient='index')\n",
    "P = populations"
   ]
  },
  {
   "cell_type": "code",
   "execution_count": 15,
   "id": "68555402-8cba-4f00-8a1a-de970c4c269a",
   "metadata": {},
   "outputs": [],
   "source": [
    "m = Model()"
   ]
  },
  {
   "cell_type": "code",
   "execution_count": 16,
   "id": "bfb530db-a8b5-42f0-bd83-7025ae9b5741",
   "metadata": {},
   "outputs": [],
   "source": [
    "X = m.addVars(D, vtype=GRB.BINARY, name='useDepot?')"
   ]
  },
  {
   "cell_type": "code",
   "execution_count": 17,
   "id": "8ffe8109-06e0-4b11-8907-6bbf8b89e9a9",
   "metadata": {},
   "outputs": [],
   "source": [
    "popServed = LinExpr()\n",
    "for d in D:\n",
    "    for n in N:\n",
    "        if T[n][d] <= 12:\n",
    "            popServed.add(X[d] * P[n])\n",
    "m.setObjective(popServed, GRB.MAXIMIZE)"
   ]
  },
  {
   "cell_type": "code",
   "execution_count": 18,
   "id": "b5a46784-2a31-4c8c-a3b9-12e210de9b56",
   "metadata": {},
   "outputs": [
    {
     "data": {
      "text/plain": [
       "<gurobi.Constr *Awaiting Model Update*>"
      ]
     },
     "execution_count": 18,
     "metadata": {},
     "output_type": "execute_result"
    }
   ],
   "source": [
    "numDepots = LinExpr()\n",
    "for d in D:\n",
    "    numDepots.add(X[d])\n",
    "m.addConstr(numDepots == 2)"
   ]
  },
  {
   "cell_type": "code",
   "execution_count": 19,
   "id": "2daef3ee-fddb-414f-bbda-599eb4fa66bf",
   "metadata": {},
   "outputs": [
    {
     "name": "stdout",
     "output_type": "stream",
     "text": [
      "Gurobi Optimizer version 9.5.1 build v9.5.1rc2 (win64)\n",
      "Thread count: 8 physical cores, 16 logical processors, using up to 16 threads\n",
      "Optimize a model with 1 rows, 6 columns and 6 nonzeros\n",
      "Model fingerprint: 0x913cc42f\n",
      "Variable types: 0 continuous, 6 integer (6 binary)\n",
      "Coefficient statistics:\n",
      "  Matrix range     [1e+00, 1e+00]\n",
      "  Objective range  [3e+01, 8e+01]\n",
      "  Bounds range     [1e+00, 1e+00]\n",
      "  RHS range        [2e+00, 2e+00]\n",
      "Found heuristic solution: objective 120.0000000\n",
      "Presolve removed 1 rows and 6 columns\n",
      "Presolve time: 0.00s\n",
      "Presolve: All rows and columns removed\n",
      "\n",
      "Explored 0 nodes (0 simplex iterations) in 0.00 seconds (0.00 work units)\n",
      "Thread count was 1 (of 16 available processors)\n",
      "\n",
      "Solution count 2: 147 120 \n",
      "\n",
      "Optimal solution found (tolerance 1.00e-04)\n",
      "Best objective 1.470000000000e+02, best bound 1.470000000000e+02, gap 0.0000%\n"
     ]
    }
   ],
   "source": [
    "m.optimize()"
   ]
  },
  {
   "cell_type": "code",
   "execution_count": 20,
   "id": "147a350b-ffd6-4adb-8e90-5010c6d4176f",
   "metadata": {},
   "outputs": [
    {
     "name": "stdout",
     "output_type": "stream",
     "text": [
      "Depot 2 serves Neighborhood 1\n",
      "Depot 2 serves Neighborhood 2\n",
      "Depot 2 serves Neighborhood 3\n",
      "Depot 2 serves Neighborhood 4\n",
      "Depot 2 serves Neighborhood 5\n",
      "Depot 2 serves Neighborhood 6\n",
      "Depot 2 serves Neighborhood 7\n",
      "Depot 2 serves Neighborhood 8\n",
      "Depot 5 serves Neighborhood 1\n",
      "Depot 5 serves Neighborhood 2\n",
      "Depot 5 serves Neighborhood 3\n",
      "Depot 5 serves Neighborhood 4\n",
      "Depot 5 serves Neighborhood 5\n",
      "Depot 5 serves Neighborhood 6\n",
      "Depot 5 serves Neighborhood 7\n",
      "Depot 5 serves Neighborhood 8\n"
     ]
    }
   ],
   "source": [
    "for d in D:\n",
    "    for n in N:\n",
    "        if X[d].x == 1:\n",
    "            print(f'Depot {d} serves Neighborhood {n}')"
   ]
  },
  {
   "cell_type": "markdown",
   "id": "d4993f6b-24ab-444b-bd67-129867e6f2ef",
   "metadata": {},
   "source": [
    "# #3 Big Burger"
   ]
  },
  {
   "cell_type": "code",
   "execution_count": 21,
   "id": "e95bf474-aea6-4580-ba0e-a013e2854b3c",
   "metadata": {},
   "outputs": [],
   "source": [
    "C = {'Kids', 'Drivers', 'Workers'}\n",
    "F = {'Burgers', 'Fries', 'Soft Drink', 'Combo Meal'}\n",
    "D = {\n",
    "    'Kids' : 300,\n",
    "    'Drivers' : 240,\n",
    "    'Workers' : 600,\n",
    "}\n"
   ]
  },
  {
   "cell_type": "code",
   "execution_count": 22,
   "id": "1c263f27-842a-45e9-81bd-b2d274e20eea",
   "metadata": {},
   "outputs": [],
   "source": [
    "W = {\n",
    "    'Kids' : \n",
    "        {\n",
    "            'Burgers' : 2.69,\n",
    "            'Fries' : 1.39,\n",
    "            'Soft Drink' : 1.09,\n",
    "            'Combo Meal' : 4.29\n",
    "        },\n",
    "    'Drivers' :\n",
    "        {\n",
    "            'Burgers' : 2.99,\n",
    "            'Fries' : .99,\n",
    "            'Soft Drink' : 1.29,\n",
    "            'Combo Meal' : 4.89\n",
    "        },\n",
    "    'Workers' :\n",
    "        {\n",
    "            'Burgers' : 2.59,\n",
    "            'Fries' : .99,\n",
    "            'Soft Drink' : 1.19,\n",
    "            'Combo Meal' : 4.19\n",
    "        }\n",
    "}"
   ]
  },
  {
   "cell_type": "code",
   "execution_count": 23,
   "id": "55a18e4e-d78d-424f-99a8-15addecf0a89",
   "metadata": {},
   "outputs": [],
   "source": [
    "m = Model()"
   ]
  },
  {
   "cell_type": "code",
   "execution_count": 24,
   "id": "4c4fe306-521a-41b3-86eb-2b1fcd7e670e",
   "metadata": {},
   "outputs": [],
   "source": [
    "X = m.addVars(F, vtype=GRB.CONTINUOUS, name='price')\n",
    "Y = m.addVars(C, F, vtype=GRB.BINARY, name='buy?')"
   ]
  },
  {
   "cell_type": "code",
   "execution_count": 25,
   "id": "2b13570c-f6dd-48ff-9012-a0f3ee4cc18c",
   "metadata": {},
   "outputs": [
    {
     "data": {
      "text/plain": [
       "{('Workers', 'Soft Drink'): <gurobi.Var *Awaiting Model Update*>,\n",
       " ('Workers', 'Burgers'): <gurobi.Var *Awaiting Model Update*>,\n",
       " ('Workers', 'Fries'): <gurobi.Var *Awaiting Model Update*>,\n",
       " ('Workers', 'Combo Meal'): <gurobi.Var *Awaiting Model Update*>,\n",
       " ('Drivers', 'Soft Drink'): <gurobi.Var *Awaiting Model Update*>,\n",
       " ('Drivers', 'Burgers'): <gurobi.Var *Awaiting Model Update*>,\n",
       " ('Drivers', 'Fries'): <gurobi.Var *Awaiting Model Update*>,\n",
       " ('Drivers', 'Combo Meal'): <gurobi.Var *Awaiting Model Update*>,\n",
       " ('Kids', 'Soft Drink'): <gurobi.Var *Awaiting Model Update*>,\n",
       " ('Kids', 'Burgers'): <gurobi.Var *Awaiting Model Update*>,\n",
       " ('Kids', 'Fries'): <gurobi.Var *Awaiting Model Update*>,\n",
       " ('Kids', 'Combo Meal'): <gurobi.Var *Awaiting Model Update*>}"
      ]
     },
     "execution_count": 25,
     "metadata": {},
     "output_type": "execute_result"
    }
   ],
   "source": [
    "Y"
   ]
  },
  {
   "cell_type": "code",
   "execution_count": 26,
   "id": "ccecd0c0-ca46-48ee-a1de-63473c2cd656",
   "metadata": {},
   "outputs": [],
   "source": [
    "revenue = QuadExpr()\n",
    "for c in C:\n",
    "    for f in F:\n",
    "        revenue.add(X[f] * D[c] * Y[c,f])\n",
    "m.setObjective(revenue, GRB.MAXIMIZE)"
   ]
  },
  {
   "cell_type": "code",
   "execution_count": 27,
   "id": "227dded8-a6e2-4de5-a01b-0a80a06557fa",
   "metadata": {},
   "outputs": [],
   "source": [
    "for c in C:\n",
    "    for f in F:\n",
    "        isPurchased = QuadExpr()\n",
    "        isPurchased.add(W[c][f] - (X[f] * Y[c,f]))\n",
    "        m.addConstr(isPurchased >= 0)"
   ]
  },
  {
   "cell_type": "code",
   "execution_count": 28,
   "id": "bcc59da5-9cfa-4c8b-8d7d-4effa48e1fd2",
   "metadata": {},
   "outputs": [
    {
     "name": "stdout",
     "output_type": "stream",
     "text": [
      "Gurobi Optimizer version 9.5.1 build v9.5.1rc2 (win64)\n",
      "Thread count: 8 physical cores, 16 logical processors, using up to 16 threads\n",
      "Optimize a model with 0 rows, 16 columns and 0 nonzeros\n",
      "Model fingerprint: 0x6c04dc98\n",
      "Model has 12 quadratic objective terms\n",
      "Model has 12 quadratic constraints\n",
      "Variable types: 4 continuous, 12 integer (12 binary)\n",
      "Coefficient statistics:\n",
      "  Matrix range     [0e+00, 0e+00]\n",
      "  QMatrix range    [1e+00, 1e+00]\n",
      "  Objective range  [0e+00, 0e+00]\n",
      "  QObjective range [5e+02, 1e+03]\n",
      "  Bounds range     [1e+00, 1e+00]\n",
      "  RHS range        [0e+00, 0e+00]\n",
      "  QRHS range       [1e+00, 5e+00]\n",
      "Found heuristic solution: objective -0.0000000\n",
      "Presolve removed 0 rows and 12 columns\n",
      "Presolve time: 0.01s\n",
      "Presolved: 9 rows, 13 columns, 18 nonzeros\n",
      "Presolved model has 6 SOS constraint(s)\n",
      "Found heuristic solution: objective 5323.8000000\n",
      "Variable types: 7 continuous, 6 integer (6 binary)\n",
      "\n",
      "Root relaxation: objective 1.029840e+04, 3 iterations, 0.00 seconds (0.00 work units)\n",
      "\n",
      "    Nodes    |    Current Node    |     Objective Bounds      |     Work\n",
      " Expl Unexpl |  Obj  Depth IntInf | Incumbent    BestBd   Gap | It/Node Time\n",
      "\n",
      "     0     0 10298.4000    0    3 5323.80000 10298.4000  93.4%     -    0s\n",
      "H    0     0                    10100.400000 10298.4000  1.96%     -    0s\n",
      "     0     0 10298.4000    0    3 10100.4000 10298.4000  1.96%     -    0s\n",
      "\n",
      "Explored 1 nodes (3 simplex iterations) in 0.02 seconds (0.00 work units)\n",
      "Thread count was 16 (of 16 available processors)\n",
      "\n",
      "Solution count 3: 10100.4 5323.8 -0 \n",
      "\n",
      "Optimal solution found (tolerance 1.00e-04)\n",
      "Best objective 1.010040000000e+04, best bound 1.010040000000e+04, gap 0.0000%\n"
     ]
    }
   ],
   "source": [
    "m.optimize()"
   ]
  },
  {
   "cell_type": "code",
   "execution_count": 29,
   "id": "67eace4e-e85b-4985-b152-773062b6aa07",
   "metadata": {},
   "outputs": [
    {
     "name": "stdout",
     "output_type": "stream",
     "text": [
      "Price of Soft Drink: 1.09\n",
      "Price of Burgers: 2.5900000000000003\n",
      "Price of Fries: 0.9900000000000002\n",
      "Price of Combo Meal: 4.190000000000001\n"
     ]
    }
   ],
   "source": [
    "for f in F:\n",
    "    print(f'Price of {f}: {X[f].x}')"
   ]
  },
  {
   "cell_type": "code",
   "execution_count": 32,
   "id": "0bd9c561-2ea9-4e31-959f-69ef8cd00daf",
   "metadata": {},
   "outputs": [
    {
     "name": "stdout",
     "output_type": "stream",
     "text": [
      "Customer Type\tFood Type\tPurchased?(1-yes, 0-no)\n",
      "Workers\t\tSoft Drink\t\t\t1.0\n",
      "Drivers\t\tSoft Drink\t\t\t1.0\n",
      "Kids\t\tSoft Drink\t\t\t1.0\n",
      "Workers\t\tBurgers\t\t\t1.0\n",
      "Drivers\t\tBurgers\t\t\t1.0\n",
      "Kids\t\tBurgers\t\t\t1.0\n",
      "Workers\t\tFries\t\t\t1.0\n",
      "Drivers\t\tFries\t\t\t1.0\n",
      "Kids\t\tFries\t\t\t1.0\n",
      "Workers\t\tCombo Meal\t\t\t1.0\n",
      "Drivers\t\tCombo Meal\t\t\t1.0\n",
      "Kids\t\tCombo Meal\t\t\t1.0\n"
     ]
    }
   ],
   "source": [
    "print('Customer Type\\tFood Type\\tPurchased?(1-yes, 0-no)')\n",
    "for f in F:\n",
    "    for c in C:\n",
    "        print(f'{c}\\t\\t{f}\\t\\t\\t{Y[c,f].x}')"
   ]
  },
  {
   "cell_type": "code",
   "execution_count": null,
   "id": "e993b4b9-11ae-4e69-8ac9-9d228c7dde3e",
   "metadata": {},
   "outputs": [],
   "source": []
  }
 ],
 "metadata": {
  "kernelspec": {
   "display_name": "Python 3 (ipykernel)",
   "language": "python",
   "name": "python3"
  },
  "language_info": {
   "codemirror_mode": {
    "name": "ipython",
    "version": 3
   },
   "file_extension": ".py",
   "mimetype": "text/x-python",
   "name": "python",
   "nbconvert_exporter": "python",
   "pygments_lexer": "ipython3",
   "version": "3.9.7"
  }
 },
 "nbformat": 4,
 "nbformat_minor": 5
}
